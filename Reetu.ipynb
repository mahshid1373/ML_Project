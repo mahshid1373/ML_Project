{
 "cells": [
  {
   "cell_type": "markdown",
   "metadata": {},
   "source": [
    "# Hearth Care Stroke data Machine Learning Analysing"
   ]
  },
  {
   "cell_type": "code",
   "execution_count": 1,
   "metadata": {},
   "outputs": [],
   "source": [
    "import pandas as pd\n",
    "from sklearn.pipeline import Pipeline\n",
    "from sklearn.preprocessing import StandardScaler, MinMaxScaler\n",
    "from sklearn.model_selection import GridSearchCV, train_test_split\n",
    "from sklearn.metrics import accuracy_score, precision_score, recall_score, f1_score\n",
    "from sklearn.ensemble import RandomForestClassifier, BaggingClassifier, AdaBoostClassifier, GradientBoostingClassifier, VotingClassifier\n",
    "from sklearn.linear_model import LogisticRegression\n",
    "from sklearn.neighbors import KNeighborsClassifier\n",
    "from sklearn.svm import SVC\n",
    "from sklearn.tree import DecisionTreeClassifier\n",
    "import plotly.express as px\n",
    "import numpy as np\n",
    "import seaborn as sns\n",
    "from sklearn.neighbors import KNeighborsClassifier\n",
    "from functions import *"
   ]
  },
  {
   "cell_type": "markdown",
   "metadata": {},
   "source": [
    "## Cleaning Data"
   ]
  },
  {
   "cell_type": "markdown",
   "metadata": {},
   "source": [
    "Import dataset:"
   ]
  },
  {
   "cell_type": "code",
   "execution_count": 2,
   "metadata": {},
   "outputs": [],
   "source": [
    "data = pd.read_csv(\"healthcare-dataset-stroke-data.csv\")"
   ]
  },
  {
   "cell_type": "code",
   "execution_count": 3,
   "metadata": {},
   "outputs": [
    {
     "data": {
      "text/html": [
       "<div>\n",
       "<style scoped>\n",
       "    .dataframe tbody tr th:only-of-type {\n",
       "        vertical-align: middle;\n",
       "    }\n",
       "\n",
       "    .dataframe tbody tr th {\n",
       "        vertical-align: top;\n",
       "    }\n",
       "\n",
       "    .dataframe thead th {\n",
       "        text-align: right;\n",
       "    }\n",
       "</style>\n",
       "<table border=\"1\" class=\"dataframe\">\n",
       "  <thead>\n",
       "    <tr style=\"text-align: right;\">\n",
       "      <th></th>\n",
       "      <th>id</th>\n",
       "      <th>gender</th>\n",
       "      <th>age</th>\n",
       "      <th>hypertension</th>\n",
       "      <th>heart_disease</th>\n",
       "      <th>ever_married</th>\n",
       "      <th>work_type</th>\n",
       "      <th>Residence_type</th>\n",
       "      <th>avg_glucose_level</th>\n",
       "      <th>bmi</th>\n",
       "      <th>smoking_status</th>\n",
       "      <th>stroke</th>\n",
       "    </tr>\n",
       "  </thead>\n",
       "  <tbody>\n",
       "    <tr>\n",
       "      <th>0</th>\n",
       "      <td>9046</td>\n",
       "      <td>Male</td>\n",
       "      <td>67.0</td>\n",
       "      <td>0</td>\n",
       "      <td>1</td>\n",
       "      <td>Yes</td>\n",
       "      <td>Private</td>\n",
       "      <td>Urban</td>\n",
       "      <td>228.69</td>\n",
       "      <td>36.6</td>\n",
       "      <td>formerly smoked</td>\n",
       "      <td>1</td>\n",
       "    </tr>\n",
       "    <tr>\n",
       "      <th>1</th>\n",
       "      <td>51676</td>\n",
       "      <td>Female</td>\n",
       "      <td>61.0</td>\n",
       "      <td>0</td>\n",
       "      <td>0</td>\n",
       "      <td>Yes</td>\n",
       "      <td>Self-employed</td>\n",
       "      <td>Rural</td>\n",
       "      <td>202.21</td>\n",
       "      <td>NaN</td>\n",
       "      <td>never smoked</td>\n",
       "      <td>1</td>\n",
       "    </tr>\n",
       "    <tr>\n",
       "      <th>2</th>\n",
       "      <td>31112</td>\n",
       "      <td>Male</td>\n",
       "      <td>80.0</td>\n",
       "      <td>0</td>\n",
       "      <td>1</td>\n",
       "      <td>Yes</td>\n",
       "      <td>Private</td>\n",
       "      <td>Rural</td>\n",
       "      <td>105.92</td>\n",
       "      <td>32.5</td>\n",
       "      <td>never smoked</td>\n",
       "      <td>1</td>\n",
       "    </tr>\n",
       "    <tr>\n",
       "      <th>3</th>\n",
       "      <td>60182</td>\n",
       "      <td>Female</td>\n",
       "      <td>49.0</td>\n",
       "      <td>0</td>\n",
       "      <td>0</td>\n",
       "      <td>Yes</td>\n",
       "      <td>Private</td>\n",
       "      <td>Urban</td>\n",
       "      <td>171.23</td>\n",
       "      <td>34.4</td>\n",
       "      <td>smokes</td>\n",
       "      <td>1</td>\n",
       "    </tr>\n",
       "    <tr>\n",
       "      <th>4</th>\n",
       "      <td>1665</td>\n",
       "      <td>Female</td>\n",
       "      <td>79.0</td>\n",
       "      <td>1</td>\n",
       "      <td>0</td>\n",
       "      <td>Yes</td>\n",
       "      <td>Self-employed</td>\n",
       "      <td>Rural</td>\n",
       "      <td>174.12</td>\n",
       "      <td>24.0</td>\n",
       "      <td>never smoked</td>\n",
       "      <td>1</td>\n",
       "    </tr>\n",
       "    <tr>\n",
       "      <th>...</th>\n",
       "      <td>...</td>\n",
       "      <td>...</td>\n",
       "      <td>...</td>\n",
       "      <td>...</td>\n",
       "      <td>...</td>\n",
       "      <td>...</td>\n",
       "      <td>...</td>\n",
       "      <td>...</td>\n",
       "      <td>...</td>\n",
       "      <td>...</td>\n",
       "      <td>...</td>\n",
       "      <td>...</td>\n",
       "    </tr>\n",
       "    <tr>\n",
       "      <th>5105</th>\n",
       "      <td>18234</td>\n",
       "      <td>Female</td>\n",
       "      <td>80.0</td>\n",
       "      <td>1</td>\n",
       "      <td>0</td>\n",
       "      <td>Yes</td>\n",
       "      <td>Private</td>\n",
       "      <td>Urban</td>\n",
       "      <td>83.75</td>\n",
       "      <td>NaN</td>\n",
       "      <td>never smoked</td>\n",
       "      <td>0</td>\n",
       "    </tr>\n",
       "    <tr>\n",
       "      <th>5106</th>\n",
       "      <td>44873</td>\n",
       "      <td>Female</td>\n",
       "      <td>81.0</td>\n",
       "      <td>0</td>\n",
       "      <td>0</td>\n",
       "      <td>Yes</td>\n",
       "      <td>Self-employed</td>\n",
       "      <td>Urban</td>\n",
       "      <td>125.20</td>\n",
       "      <td>40.0</td>\n",
       "      <td>never smoked</td>\n",
       "      <td>0</td>\n",
       "    </tr>\n",
       "    <tr>\n",
       "      <th>5107</th>\n",
       "      <td>19723</td>\n",
       "      <td>Female</td>\n",
       "      <td>35.0</td>\n",
       "      <td>0</td>\n",
       "      <td>0</td>\n",
       "      <td>Yes</td>\n",
       "      <td>Self-employed</td>\n",
       "      <td>Rural</td>\n",
       "      <td>82.99</td>\n",
       "      <td>30.6</td>\n",
       "      <td>never smoked</td>\n",
       "      <td>0</td>\n",
       "    </tr>\n",
       "    <tr>\n",
       "      <th>5108</th>\n",
       "      <td>37544</td>\n",
       "      <td>Male</td>\n",
       "      <td>51.0</td>\n",
       "      <td>0</td>\n",
       "      <td>0</td>\n",
       "      <td>Yes</td>\n",
       "      <td>Private</td>\n",
       "      <td>Rural</td>\n",
       "      <td>166.29</td>\n",
       "      <td>25.6</td>\n",
       "      <td>formerly smoked</td>\n",
       "      <td>0</td>\n",
       "    </tr>\n",
       "    <tr>\n",
       "      <th>5109</th>\n",
       "      <td>44679</td>\n",
       "      <td>Female</td>\n",
       "      <td>44.0</td>\n",
       "      <td>0</td>\n",
       "      <td>0</td>\n",
       "      <td>Yes</td>\n",
       "      <td>Govt_job</td>\n",
       "      <td>Urban</td>\n",
       "      <td>85.28</td>\n",
       "      <td>26.2</td>\n",
       "      <td>Unknown</td>\n",
       "      <td>0</td>\n",
       "    </tr>\n",
       "  </tbody>\n",
       "</table>\n",
       "<p>5110 rows × 12 columns</p>\n",
       "</div>"
      ],
      "text/plain": [
       "         id  gender   age  hypertension  heart_disease ever_married  \\\n",
       "0      9046    Male  67.0             0              1          Yes   \n",
       "1     51676  Female  61.0             0              0          Yes   \n",
       "2     31112    Male  80.0             0              1          Yes   \n",
       "3     60182  Female  49.0             0              0          Yes   \n",
       "4      1665  Female  79.0             1              0          Yes   \n",
       "...     ...     ...   ...           ...            ...          ...   \n",
       "5105  18234  Female  80.0             1              0          Yes   \n",
       "5106  44873  Female  81.0             0              0          Yes   \n",
       "5107  19723  Female  35.0             0              0          Yes   \n",
       "5108  37544    Male  51.0             0              0          Yes   \n",
       "5109  44679  Female  44.0             0              0          Yes   \n",
       "\n",
       "          work_type Residence_type  avg_glucose_level   bmi   smoking_status  \\\n",
       "0           Private          Urban             228.69  36.6  formerly smoked   \n",
       "1     Self-employed          Rural             202.21   NaN     never smoked   \n",
       "2           Private          Rural             105.92  32.5     never smoked   \n",
       "3           Private          Urban             171.23  34.4           smokes   \n",
       "4     Self-employed          Rural             174.12  24.0     never smoked   \n",
       "...             ...            ...                ...   ...              ...   \n",
       "5105        Private          Urban              83.75   NaN     never smoked   \n",
       "5106  Self-employed          Urban             125.20  40.0     never smoked   \n",
       "5107  Self-employed          Rural              82.99  30.6     never smoked   \n",
       "5108        Private          Rural             166.29  25.6  formerly smoked   \n",
       "5109       Govt_job          Urban              85.28  26.2          Unknown   \n",
       "\n",
       "      stroke  \n",
       "0          1  \n",
       "1          1  \n",
       "2          1  \n",
       "3          1  \n",
       "4          1  \n",
       "...      ...  \n",
       "5105       0  \n",
       "5106       0  \n",
       "5107       0  \n",
       "5108       0  \n",
       "5109       0  \n",
       "\n",
       "[5110 rows x 12 columns]"
      ]
     },
     "execution_count": 3,
     "metadata": {},
     "output_type": "execute_result"
    }
   ],
   "source": [
    "data"
   ]
  },
  {
   "cell_type": "markdown",
   "metadata": {},
   "source": [
    "Check how many NA valuse do we have in the data:"
   ]
  },
  {
   "cell_type": "code",
   "execution_count": 4,
   "metadata": {},
   "outputs": [
    {
     "data": {
      "text/plain": [
       "id                     0\n",
       "gender                 0\n",
       "age                    0\n",
       "hypertension           0\n",
       "heart_disease          0\n",
       "ever_married           0\n",
       "work_type              0\n",
       "Residence_type         0\n",
       "avg_glucose_level      0\n",
       "bmi                  201\n",
       "smoking_status         0\n",
       "stroke                 0\n",
       "dtype: int64"
      ]
     },
     "execution_count": 4,
     "metadata": {},
     "output_type": "execute_result"
    }
   ],
   "source": [
    "data.isna().sum()"
   ]
  },
  {
   "cell_type": "markdown",
   "metadata": {},
   "source": [
    "because the number of NAs were not many, so we droped all the rows containing NA value:"
   ]
  },
  {
   "cell_type": "code",
   "execution_count": 5,
   "metadata": {},
   "outputs": [
    {
     "data": {
      "text/html": [
       "<div>\n",
       "<style scoped>\n",
       "    .dataframe tbody tr th:only-of-type {\n",
       "        vertical-align: middle;\n",
       "    }\n",
       "\n",
       "    .dataframe tbody tr th {\n",
       "        vertical-align: top;\n",
       "    }\n",
       "\n",
       "    .dataframe thead th {\n",
       "        text-align: right;\n",
       "    }\n",
       "</style>\n",
       "<table border=\"1\" class=\"dataframe\">\n",
       "  <thead>\n",
       "    <tr style=\"text-align: right;\">\n",
       "      <th></th>\n",
       "      <th>id</th>\n",
       "      <th>gender</th>\n",
       "      <th>age</th>\n",
       "      <th>hypertension</th>\n",
       "      <th>heart_disease</th>\n",
       "      <th>ever_married</th>\n",
       "      <th>work_type</th>\n",
       "      <th>Residence_type</th>\n",
       "      <th>avg_glucose_level</th>\n",
       "      <th>bmi</th>\n",
       "      <th>smoking_status</th>\n",
       "      <th>stroke</th>\n",
       "    </tr>\n",
       "  </thead>\n",
       "  <tbody>\n",
       "    <tr>\n",
       "      <th>0</th>\n",
       "      <td>9046</td>\n",
       "      <td>Male</td>\n",
       "      <td>67.0</td>\n",
       "      <td>0</td>\n",
       "      <td>1</td>\n",
       "      <td>Yes</td>\n",
       "      <td>Private</td>\n",
       "      <td>Urban</td>\n",
       "      <td>228.69</td>\n",
       "      <td>36.6</td>\n",
       "      <td>formerly smoked</td>\n",
       "      <td>1</td>\n",
       "    </tr>\n",
       "    <tr>\n",
       "      <th>2</th>\n",
       "      <td>31112</td>\n",
       "      <td>Male</td>\n",
       "      <td>80.0</td>\n",
       "      <td>0</td>\n",
       "      <td>1</td>\n",
       "      <td>Yes</td>\n",
       "      <td>Private</td>\n",
       "      <td>Rural</td>\n",
       "      <td>105.92</td>\n",
       "      <td>32.5</td>\n",
       "      <td>never smoked</td>\n",
       "      <td>1</td>\n",
       "    </tr>\n",
       "    <tr>\n",
       "      <th>3</th>\n",
       "      <td>60182</td>\n",
       "      <td>Female</td>\n",
       "      <td>49.0</td>\n",
       "      <td>0</td>\n",
       "      <td>0</td>\n",
       "      <td>Yes</td>\n",
       "      <td>Private</td>\n",
       "      <td>Urban</td>\n",
       "      <td>171.23</td>\n",
       "      <td>34.4</td>\n",
       "      <td>smokes</td>\n",
       "      <td>1</td>\n",
       "    </tr>\n",
       "    <tr>\n",
       "      <th>4</th>\n",
       "      <td>1665</td>\n",
       "      <td>Female</td>\n",
       "      <td>79.0</td>\n",
       "      <td>1</td>\n",
       "      <td>0</td>\n",
       "      <td>Yes</td>\n",
       "      <td>Self-employed</td>\n",
       "      <td>Rural</td>\n",
       "      <td>174.12</td>\n",
       "      <td>24.0</td>\n",
       "      <td>never smoked</td>\n",
       "      <td>1</td>\n",
       "    </tr>\n",
       "    <tr>\n",
       "      <th>5</th>\n",
       "      <td>56669</td>\n",
       "      <td>Male</td>\n",
       "      <td>81.0</td>\n",
       "      <td>0</td>\n",
       "      <td>0</td>\n",
       "      <td>Yes</td>\n",
       "      <td>Private</td>\n",
       "      <td>Urban</td>\n",
       "      <td>186.21</td>\n",
       "      <td>29.0</td>\n",
       "      <td>formerly smoked</td>\n",
       "      <td>1</td>\n",
       "    </tr>\n",
       "  </tbody>\n",
       "</table>\n",
       "</div>"
      ],
      "text/plain": [
       "      id  gender   age  hypertension  heart_disease ever_married  \\\n",
       "0   9046    Male  67.0             0              1          Yes   \n",
       "2  31112    Male  80.0             0              1          Yes   \n",
       "3  60182  Female  49.0             0              0          Yes   \n",
       "4   1665  Female  79.0             1              0          Yes   \n",
       "5  56669    Male  81.0             0              0          Yes   \n",
       "\n",
       "       work_type Residence_type  avg_glucose_level   bmi   smoking_status  \\\n",
       "0        Private          Urban             228.69  36.6  formerly smoked   \n",
       "2        Private          Rural             105.92  32.5     never smoked   \n",
       "3        Private          Urban             171.23  34.4           smokes   \n",
       "4  Self-employed          Rural             174.12  24.0     never smoked   \n",
       "5        Private          Urban             186.21  29.0  formerly smoked   \n",
       "\n",
       "   stroke  \n",
       "0       1  \n",
       "2       1  \n",
       "3       1  \n",
       "4       1  \n",
       "5       1  "
      ]
     },
     "execution_count": 5,
     "metadata": {},
     "output_type": "execute_result"
    }
   ],
   "source": [
    "data = data.dropna()\n",
    "data.head()"
   ]
  },
  {
   "cell_type": "code",
   "execution_count": 6,
   "metadata": {},
   "outputs": [
    {
     "data": {
      "text/plain": [
       "id                   0\n",
       "gender               0\n",
       "age                  0\n",
       "hypertension         0\n",
       "heart_disease        0\n",
       "ever_married         0\n",
       "work_type            0\n",
       "Residence_type       0\n",
       "avg_glucose_level    0\n",
       "bmi                  0\n",
       "smoking_status       0\n",
       "stroke               0\n",
       "dtype: int64"
      ]
     },
     "execution_count": 6,
     "metadata": {},
     "output_type": "execute_result"
    }
   ],
   "source": [
    "data.isna().sum()"
   ]
  },
  {
   "cell_type": "markdown",
   "metadata": {},
   "source": [
    "Check if the data type of all columns are correct:"
   ]
  },
  {
   "cell_type": "code",
   "execution_count": 7,
   "metadata": {},
   "outputs": [
    {
     "data": {
      "text/plain": [
       "id                     int64\n",
       "gender                object\n",
       "age                  float64\n",
       "hypertension           int64\n",
       "heart_disease          int64\n",
       "ever_married          object\n",
       "work_type             object\n",
       "Residence_type        object\n",
       "avg_glucose_level    float64\n",
       "bmi                  float64\n",
       "smoking_status        object\n",
       "stroke                 int64\n",
       "dtype: object"
      ]
     },
     "execution_count": 7,
     "metadata": {},
     "output_type": "execute_result"
    }
   ],
   "source": [
    "data.dtypes"
   ]
  },
  {
   "cell_type": "markdown",
   "metadata": {},
   "source": [
    "### EDA for data exploration"
   ]
  },
  {
   "cell_type": "code",
   "execution_count": 8,
   "metadata": {},
   "outputs": [],
   "source": [
    "import pandas as pd\n",
    "import seaborn as sns\n",
    "import matplotlib.pyplot as plt\n",
    "import numpy as np\n",
    "\n",
    "def eda_plots(data):\n",
    "    # Setting up the plot style\n",
    "    sns.set(style=\"whitegrid\")\n",
    "\n",
    "    # Loop through each column\n",
    "    for column in data.columns:\n",
    "        print(f\"\\nPlotting for Column: {column}\")\n",
    "        print(\"-\" * 40)\n",
    "\n",
    "        # Categorical Data (includes object type or columns with fewer than 20 unique values)\n",
    "        if data[column].dtype == 'object' or data[column].nunique() < 20:\n",
    "            plt.figure(figsize=(10, 6))\n",
    "            sns.countplot(x=data[column], palette=\"Set2\")\n",
    "            plt.title(f'Distribution of {column}')\n",
    "            plt.xlabel(column)\n",
    "            plt.ylabel('Count')\n",
    "            plt.xticks(rotation=45)\n",
    "            plt.show()\n",
    "\n",
    "        # Numerical Data\n",
    "        elif np.issubdtype(data[column].dtype, np.number):\n",
    "            # Histogram with KDE\n",
    "            plt.figure(figsize=(10, 6))\n",
    "            sns.histplot(data[column].dropna(), kde=True, color=\"blue\", bins=30)\n",
    "            plt.title(f'Distribution of {column}')\n",
    "            plt.xlabel(column)\n",
    "            plt.ylabel('Frequency')\n",
    "            plt.show()\n",
    "\n",
    "            # Boxplot for detecting outliers\n",
    "            plt.figure(figsize=(10, 6))\n",
    "            sns.boxplot(x=data[column], color=\"lightblue\")\n",
    "            plt.title(f'Boxplot of {column}')\n",
    "            plt.xlabel(column)\n",
    "            plt.show()\n",
    "\n",
    "        print(\"\\n\" + \"=\"*80)\n",
    "\n",
    "# Example usage\n",
    "# eda_plots(data)\n"
   ]
  },
  {
   "cell_type": "markdown",
   "metadata": {},
   "source": [
    "Transform the \"AgeGroup\" column into differernt bins and make it numerical:"
   ]
  },
  {
   "cell_type": "code",
   "execution_count": 9,
   "metadata": {},
   "outputs": [
    {
     "name": "stderr",
     "output_type": "stream",
     "text": [
      "/Users/Erfan/Documents/GitHub/ML_Project/functions.py:7: SettingWithCopyWarning: \n",
      "A value is trying to be set on a copy of a slice from a DataFrame.\n",
      "Try using .loc[row_indexer,col_indexer] = value instead\n",
      "\n",
      "See the caveats in the documentation: https://pandas.pydata.org/pandas-docs/stable/user_guide/indexing.html#returning-a-view-versus-a-copy\n",
      "  data['AgeGroup'] = pd.cut(data['age'], bins=[0, 18, 35, 50, 65, 100], labels=[0, 1, 2, 3, 4])\n",
      "/Users/Erfan/Documents/GitHub/ML_Project/functions.py:8: SettingWithCopyWarning: \n",
      "A value is trying to be set on a copy of a slice from a DataFrame.\n",
      "Try using .loc[row_indexer,col_indexer] = value instead\n",
      "\n",
      "See the caveats in the documentation: https://pandas.pydata.org/pandas-docs/stable/user_guide/indexing.html#returning-a-view-versus-a-copy\n",
      "  data['AgeGroup'] = data['AgeGroup'].astype('int64')\n",
      "/Users/Erfan/Documents/GitHub/ML_Project/functions.py:9: SettingWithCopyWarning: \n",
      "A value is trying to be set on a copy of a slice from a DataFrame\n",
      "\n",
      "See the caveats in the documentation: https://pandas.pydata.org/pandas-docs/stable/user_guide/indexing.html#returning-a-view-versus-a-copy\n",
      "  data.drop(columns=[\"age\"], inplace=True)\n"
     ]
    },
    {
     "data": {
      "text/html": [
       "<div>\n",
       "<style scoped>\n",
       "    .dataframe tbody tr th:only-of-type {\n",
       "        vertical-align: middle;\n",
       "    }\n",
       "\n",
       "    .dataframe tbody tr th {\n",
       "        vertical-align: top;\n",
       "    }\n",
       "\n",
       "    .dataframe thead th {\n",
       "        text-align: right;\n",
       "    }\n",
       "</style>\n",
       "<table border=\"1\" class=\"dataframe\">\n",
       "  <thead>\n",
       "    <tr style=\"text-align: right;\">\n",
       "      <th></th>\n",
       "      <th>id</th>\n",
       "      <th>gender</th>\n",
       "      <th>hypertension</th>\n",
       "      <th>heart_disease</th>\n",
       "      <th>ever_married</th>\n",
       "      <th>work_type</th>\n",
       "      <th>Residence_type</th>\n",
       "      <th>avg_glucose_level</th>\n",
       "      <th>bmi</th>\n",
       "      <th>smoking_status</th>\n",
       "      <th>stroke</th>\n",
       "      <th>AgeGroup</th>\n",
       "    </tr>\n",
       "  </thead>\n",
       "  <tbody>\n",
       "    <tr>\n",
       "      <th>0</th>\n",
       "      <td>9046</td>\n",
       "      <td>Male</td>\n",
       "      <td>0</td>\n",
       "      <td>1</td>\n",
       "      <td>Yes</td>\n",
       "      <td>Private</td>\n",
       "      <td>Urban</td>\n",
       "      <td>228.69</td>\n",
       "      <td>36.6</td>\n",
       "      <td>formerly smoked</td>\n",
       "      <td>1</td>\n",
       "      <td>4</td>\n",
       "    </tr>\n",
       "    <tr>\n",
       "      <th>2</th>\n",
       "      <td>31112</td>\n",
       "      <td>Male</td>\n",
       "      <td>0</td>\n",
       "      <td>1</td>\n",
       "      <td>Yes</td>\n",
       "      <td>Private</td>\n",
       "      <td>Rural</td>\n",
       "      <td>105.92</td>\n",
       "      <td>32.5</td>\n",
       "      <td>never smoked</td>\n",
       "      <td>1</td>\n",
       "      <td>4</td>\n",
       "    </tr>\n",
       "    <tr>\n",
       "      <th>3</th>\n",
       "      <td>60182</td>\n",
       "      <td>Female</td>\n",
       "      <td>0</td>\n",
       "      <td>0</td>\n",
       "      <td>Yes</td>\n",
       "      <td>Private</td>\n",
       "      <td>Urban</td>\n",
       "      <td>171.23</td>\n",
       "      <td>34.4</td>\n",
       "      <td>smokes</td>\n",
       "      <td>1</td>\n",
       "      <td>2</td>\n",
       "    </tr>\n",
       "    <tr>\n",
       "      <th>4</th>\n",
       "      <td>1665</td>\n",
       "      <td>Female</td>\n",
       "      <td>1</td>\n",
       "      <td>0</td>\n",
       "      <td>Yes</td>\n",
       "      <td>Self-employed</td>\n",
       "      <td>Rural</td>\n",
       "      <td>174.12</td>\n",
       "      <td>24.0</td>\n",
       "      <td>never smoked</td>\n",
       "      <td>1</td>\n",
       "      <td>4</td>\n",
       "    </tr>\n",
       "    <tr>\n",
       "      <th>5</th>\n",
       "      <td>56669</td>\n",
       "      <td>Male</td>\n",
       "      <td>0</td>\n",
       "      <td>0</td>\n",
       "      <td>Yes</td>\n",
       "      <td>Private</td>\n",
       "      <td>Urban</td>\n",
       "      <td>186.21</td>\n",
       "      <td>29.0</td>\n",
       "      <td>formerly smoked</td>\n",
       "      <td>1</td>\n",
       "      <td>4</td>\n",
       "    </tr>\n",
       "  </tbody>\n",
       "</table>\n",
       "</div>"
      ],
      "text/plain": [
       "      id  gender  hypertension  heart_disease ever_married      work_type  \\\n",
       "0   9046    Male             0              1          Yes        Private   \n",
       "2  31112    Male             0              1          Yes        Private   \n",
       "3  60182  Female             0              0          Yes        Private   \n",
       "4   1665  Female             1              0          Yes  Self-employed   \n",
       "5  56669    Male             0              0          Yes        Private   \n",
       "\n",
       "  Residence_type  avg_glucose_level   bmi   smoking_status  stroke  AgeGroup  \n",
       "0          Urban             228.69  36.6  formerly smoked       1         4  \n",
       "2          Rural             105.92  32.5     never smoked       1         4  \n",
       "3          Urban             171.23  34.4           smokes       1         2  \n",
       "4          Rural             174.12  24.0     never smoked       1         4  \n",
       "5          Urban             186.21  29.0  formerly smoked       1         4  "
      ]
     },
     "execution_count": 9,
     "metadata": {},
     "output_type": "execute_result"
    }
   ],
   "source": [
    "data = clean_age_column(data)\n",
    "\n",
    "data.head()"
   ]
  },
  {
   "cell_type": "code",
   "execution_count": 10,
   "metadata": {},
   "outputs": [
    {
     "data": {
      "text/plain": [
       "array(['Male', 'Female', 'Other'], dtype=object)"
      ]
     },
     "execution_count": 10,
     "metadata": {},
     "output_type": "execute_result"
    }
   ],
   "source": [
    "data['gender'].unique()"
   ]
  },
  {
   "cell_type": "markdown",
   "metadata": {},
   "source": [
    "Transform the \"gender\" column from categorical to numerical:"
   ]
  },
  {
   "cell_type": "code",
   "execution_count": 11,
   "metadata": {},
   "outputs": [],
   "source": [
    "# Drop rows where 'gender' is 'Other'\n",
    "data = data[data['gender'] != 'Other']"
   ]
  },
  {
   "cell_type": "code",
   "execution_count": 12,
   "metadata": {},
   "outputs": [
    {
     "data": {
      "text/html": [
       "<div>\n",
       "<style scoped>\n",
       "    .dataframe tbody tr th:only-of-type {\n",
       "        vertical-align: middle;\n",
       "    }\n",
       "\n",
       "    .dataframe tbody tr th {\n",
       "        vertical-align: top;\n",
       "    }\n",
       "\n",
       "    .dataframe thead th {\n",
       "        text-align: right;\n",
       "    }\n",
       "</style>\n",
       "<table border=\"1\" class=\"dataframe\">\n",
       "  <thead>\n",
       "    <tr style=\"text-align: right;\">\n",
       "      <th></th>\n",
       "      <th>id</th>\n",
       "      <th>hypertension</th>\n",
       "      <th>heart_disease</th>\n",
       "      <th>avg_glucose_level</th>\n",
       "      <th>bmi</th>\n",
       "      <th>smoking_status</th>\n",
       "      <th>stroke</th>\n",
       "      <th>AgeGroup</th>\n",
       "      <th>gender_Female</th>\n",
       "      <th>gender_Male</th>\n",
       "      <th>ever_married_No</th>\n",
       "      <th>ever_married_Yes</th>\n",
       "      <th>work_type_Govt_job</th>\n",
       "      <th>work_type_Never_worked</th>\n",
       "      <th>work_type_Private</th>\n",
       "      <th>work_type_Self-employed</th>\n",
       "      <th>work_type_children</th>\n",
       "      <th>Residence_type_Rural</th>\n",
       "      <th>Residence_type_Urban</th>\n",
       "    </tr>\n",
       "  </thead>\n",
       "  <tbody>\n",
       "    <tr>\n",
       "      <th>0</th>\n",
       "      <td>9046</td>\n",
       "      <td>0</td>\n",
       "      <td>1</td>\n",
       "      <td>228.69</td>\n",
       "      <td>36.6</td>\n",
       "      <td>formerly smoked</td>\n",
       "      <td>1</td>\n",
       "      <td>4</td>\n",
       "      <td>0</td>\n",
       "      <td>1</td>\n",
       "      <td>0</td>\n",
       "      <td>1</td>\n",
       "      <td>0</td>\n",
       "      <td>0</td>\n",
       "      <td>1</td>\n",
       "      <td>0</td>\n",
       "      <td>0</td>\n",
       "      <td>0</td>\n",
       "      <td>1</td>\n",
       "    </tr>\n",
       "    <tr>\n",
       "      <th>2</th>\n",
       "      <td>31112</td>\n",
       "      <td>0</td>\n",
       "      <td>1</td>\n",
       "      <td>105.92</td>\n",
       "      <td>32.5</td>\n",
       "      <td>never smoked</td>\n",
       "      <td>1</td>\n",
       "      <td>4</td>\n",
       "      <td>0</td>\n",
       "      <td>1</td>\n",
       "      <td>0</td>\n",
       "      <td>1</td>\n",
       "      <td>0</td>\n",
       "      <td>0</td>\n",
       "      <td>1</td>\n",
       "      <td>0</td>\n",
       "      <td>0</td>\n",
       "      <td>1</td>\n",
       "      <td>0</td>\n",
       "    </tr>\n",
       "    <tr>\n",
       "      <th>3</th>\n",
       "      <td>60182</td>\n",
       "      <td>0</td>\n",
       "      <td>0</td>\n",
       "      <td>171.23</td>\n",
       "      <td>34.4</td>\n",
       "      <td>smokes</td>\n",
       "      <td>1</td>\n",
       "      <td>2</td>\n",
       "      <td>1</td>\n",
       "      <td>0</td>\n",
       "      <td>0</td>\n",
       "      <td>1</td>\n",
       "      <td>0</td>\n",
       "      <td>0</td>\n",
       "      <td>1</td>\n",
       "      <td>0</td>\n",
       "      <td>0</td>\n",
       "      <td>0</td>\n",
       "      <td>1</td>\n",
       "    </tr>\n",
       "    <tr>\n",
       "      <th>4</th>\n",
       "      <td>1665</td>\n",
       "      <td>1</td>\n",
       "      <td>0</td>\n",
       "      <td>174.12</td>\n",
       "      <td>24.0</td>\n",
       "      <td>never smoked</td>\n",
       "      <td>1</td>\n",
       "      <td>4</td>\n",
       "      <td>1</td>\n",
       "      <td>0</td>\n",
       "      <td>0</td>\n",
       "      <td>1</td>\n",
       "      <td>0</td>\n",
       "      <td>0</td>\n",
       "      <td>0</td>\n",
       "      <td>1</td>\n",
       "      <td>0</td>\n",
       "      <td>1</td>\n",
       "      <td>0</td>\n",
       "    </tr>\n",
       "    <tr>\n",
       "      <th>5</th>\n",
       "      <td>56669</td>\n",
       "      <td>0</td>\n",
       "      <td>0</td>\n",
       "      <td>186.21</td>\n",
       "      <td>29.0</td>\n",
       "      <td>formerly smoked</td>\n",
       "      <td>1</td>\n",
       "      <td>4</td>\n",
       "      <td>0</td>\n",
       "      <td>1</td>\n",
       "      <td>0</td>\n",
       "      <td>1</td>\n",
       "      <td>0</td>\n",
       "      <td>0</td>\n",
       "      <td>1</td>\n",
       "      <td>0</td>\n",
       "      <td>0</td>\n",
       "      <td>0</td>\n",
       "      <td>1</td>\n",
       "    </tr>\n",
       "  </tbody>\n",
       "</table>\n",
       "</div>"
      ],
      "text/plain": [
       "      id  hypertension  heart_disease  avg_glucose_level   bmi  \\\n",
       "0   9046             0              1             228.69  36.6   \n",
       "2  31112             0              1             105.92  32.5   \n",
       "3  60182             0              0             171.23  34.4   \n",
       "4   1665             1              0             174.12  24.0   \n",
       "5  56669             0              0             186.21  29.0   \n",
       "\n",
       "    smoking_status  stroke  AgeGroup  gender_Female  gender_Male  \\\n",
       "0  formerly smoked       1         4              0            1   \n",
       "2     never smoked       1         4              0            1   \n",
       "3           smokes       1         2              1            0   \n",
       "4     never smoked       1         4              1            0   \n",
       "5  formerly smoked       1         4              0            1   \n",
       "\n",
       "   ever_married_No  ever_married_Yes  work_type_Govt_job  \\\n",
       "0                0                 1                   0   \n",
       "2                0                 1                   0   \n",
       "3                0                 1                   0   \n",
       "4                0                 1                   0   \n",
       "5                0                 1                   0   \n",
       "\n",
       "   work_type_Never_worked  work_type_Private  work_type_Self-employed  \\\n",
       "0                       0                  1                        0   \n",
       "2                       0                  1                        0   \n",
       "3                       0                  1                        0   \n",
       "4                       0                  0                        1   \n",
       "5                       0                  1                        0   \n",
       "\n",
       "   work_type_children  Residence_type_Rural  Residence_type_Urban  \n",
       "0                   0                     0                     1  \n",
       "2                   0                     1                     0  \n",
       "3                   0                     0                     1  \n",
       "4                   0                     1                     0  \n",
       "5                   0                     0                     1  "
      ]
     },
     "execution_count": 12,
     "metadata": {},
     "output_type": "execute_result"
    }
   ],
   "source": [
    "data= pd.get_dummies(data, columns=['gender', 'ever_married', 'work_type', 'Residence_type'])\n",
    "data.head()"
   ]
  },
  {
   "cell_type": "markdown",
   "metadata": {},
   "source": [
    "The \"Category\" column is our Target column. so we want to make sure how to categorize it in the best form."
   ]
  },
  {
   "cell_type": "code",
   "execution_count": 13,
   "metadata": {},
   "outputs": [
    {
     "data": {
      "text/plain": [
       "array([1, 0])"
      ]
     },
     "execution_count": 13,
     "metadata": {},
     "output_type": "execute_result"
    }
   ],
   "source": [
    "data[\"stroke\"].unique()"
   ]
  },
  {
   "cell_type": "code",
   "execution_count": 14,
   "metadata": {},
   "outputs": [
    {
     "data": {
      "text/html": [
       "<div>\n",
       "<style scoped>\n",
       "    .dataframe tbody tr th:only-of-type {\n",
       "        vertical-align: middle;\n",
       "    }\n",
       "\n",
       "    .dataframe tbody tr th {\n",
       "        vertical-align: top;\n",
       "    }\n",
       "\n",
       "    .dataframe thead th {\n",
       "        text-align: right;\n",
       "    }\n",
       "</style>\n",
       "<table border=\"1\" class=\"dataframe\">\n",
       "  <thead>\n",
       "    <tr style=\"text-align: right;\">\n",
       "      <th></th>\n",
       "      <th>hypertension</th>\n",
       "      <th>heart_disease</th>\n",
       "      <th>avg_glucose_level</th>\n",
       "      <th>bmi</th>\n",
       "      <th>smoking_status</th>\n",
       "      <th>stroke</th>\n",
       "      <th>AgeGroup</th>\n",
       "      <th>gender_Female</th>\n",
       "      <th>gender_Male</th>\n",
       "      <th>ever_married_No</th>\n",
       "      <th>ever_married_Yes</th>\n",
       "      <th>work_type_Govt_job</th>\n",
       "      <th>work_type_Never_worked</th>\n",
       "      <th>work_type_Private</th>\n",
       "      <th>work_type_Self-employed</th>\n",
       "      <th>work_type_children</th>\n",
       "      <th>Residence_type_Rural</th>\n",
       "      <th>Residence_type_Urban</th>\n",
       "    </tr>\n",
       "  </thead>\n",
       "  <tbody>\n",
       "    <tr>\n",
       "      <th>0</th>\n",
       "      <td>0</td>\n",
       "      <td>1</td>\n",
       "      <td>228.69</td>\n",
       "      <td>36.6</td>\n",
       "      <td>formerly smoked</td>\n",
       "      <td>1</td>\n",
       "      <td>4</td>\n",
       "      <td>0</td>\n",
       "      <td>1</td>\n",
       "      <td>0</td>\n",
       "      <td>1</td>\n",
       "      <td>0</td>\n",
       "      <td>0</td>\n",
       "      <td>1</td>\n",
       "      <td>0</td>\n",
       "      <td>0</td>\n",
       "      <td>0</td>\n",
       "      <td>1</td>\n",
       "    </tr>\n",
       "    <tr>\n",
       "      <th>2</th>\n",
       "      <td>0</td>\n",
       "      <td>1</td>\n",
       "      <td>105.92</td>\n",
       "      <td>32.5</td>\n",
       "      <td>never smoked</td>\n",
       "      <td>1</td>\n",
       "      <td>4</td>\n",
       "      <td>0</td>\n",
       "      <td>1</td>\n",
       "      <td>0</td>\n",
       "      <td>1</td>\n",
       "      <td>0</td>\n",
       "      <td>0</td>\n",
       "      <td>1</td>\n",
       "      <td>0</td>\n",
       "      <td>0</td>\n",
       "      <td>1</td>\n",
       "      <td>0</td>\n",
       "    </tr>\n",
       "    <tr>\n",
       "      <th>3</th>\n",
       "      <td>0</td>\n",
       "      <td>0</td>\n",
       "      <td>171.23</td>\n",
       "      <td>34.4</td>\n",
       "      <td>smokes</td>\n",
       "      <td>1</td>\n",
       "      <td>2</td>\n",
       "      <td>1</td>\n",
       "      <td>0</td>\n",
       "      <td>0</td>\n",
       "      <td>1</td>\n",
       "      <td>0</td>\n",
       "      <td>0</td>\n",
       "      <td>1</td>\n",
       "      <td>0</td>\n",
       "      <td>0</td>\n",
       "      <td>0</td>\n",
       "      <td>1</td>\n",
       "    </tr>\n",
       "    <tr>\n",
       "      <th>4</th>\n",
       "      <td>1</td>\n",
       "      <td>0</td>\n",
       "      <td>174.12</td>\n",
       "      <td>24.0</td>\n",
       "      <td>never smoked</td>\n",
       "      <td>1</td>\n",
       "      <td>4</td>\n",
       "      <td>1</td>\n",
       "      <td>0</td>\n",
       "      <td>0</td>\n",
       "      <td>1</td>\n",
       "      <td>0</td>\n",
       "      <td>0</td>\n",
       "      <td>0</td>\n",
       "      <td>1</td>\n",
       "      <td>0</td>\n",
       "      <td>1</td>\n",
       "      <td>0</td>\n",
       "    </tr>\n",
       "    <tr>\n",
       "      <th>5</th>\n",
       "      <td>0</td>\n",
       "      <td>0</td>\n",
       "      <td>186.21</td>\n",
       "      <td>29.0</td>\n",
       "      <td>formerly smoked</td>\n",
       "      <td>1</td>\n",
       "      <td>4</td>\n",
       "      <td>0</td>\n",
       "      <td>1</td>\n",
       "      <td>0</td>\n",
       "      <td>1</td>\n",
       "      <td>0</td>\n",
       "      <td>0</td>\n",
       "      <td>1</td>\n",
       "      <td>0</td>\n",
       "      <td>0</td>\n",
       "      <td>0</td>\n",
       "      <td>1</td>\n",
       "    </tr>\n",
       "  </tbody>\n",
       "</table>\n",
       "</div>"
      ],
      "text/plain": [
       "   hypertension  heart_disease  avg_glucose_level   bmi   smoking_status  \\\n",
       "0             0              1             228.69  36.6  formerly smoked   \n",
       "2             0              1             105.92  32.5     never smoked   \n",
       "3             0              0             171.23  34.4           smokes   \n",
       "4             1              0             174.12  24.0     never smoked   \n",
       "5             0              0             186.21  29.0  formerly smoked   \n",
       "\n",
       "   stroke  AgeGroup  gender_Female  gender_Male  ever_married_No  \\\n",
       "0       1         4              0            1                0   \n",
       "2       1         4              0            1                0   \n",
       "3       1         2              1            0                0   \n",
       "4       1         4              1            0                0   \n",
       "5       1         4              0            1                0   \n",
       "\n",
       "   ever_married_Yes  work_type_Govt_job  work_type_Never_worked  \\\n",
       "0                 1                   0                       0   \n",
       "2                 1                   0                       0   \n",
       "3                 1                   0                       0   \n",
       "4                 1                   0                       0   \n",
       "5                 1                   0                       0   \n",
       "\n",
       "   work_type_Private  work_type_Self-employed  work_type_children  \\\n",
       "0                  1                        0                   0   \n",
       "2                  1                        0                   0   \n",
       "3                  1                        0                   0   \n",
       "4                  0                        1                   0   \n",
       "5                  1                        0                   0   \n",
       "\n",
       "   Residence_type_Rural  Residence_type_Urban  \n",
       "0                     0                     1  \n",
       "2                     1                     0  \n",
       "3                     0                     1  \n",
       "4                     1                     0  \n",
       "5                     0                     1  "
      ]
     },
     "execution_count": 14,
     "metadata": {},
     "output_type": "execute_result"
    }
   ],
   "source": [
    "data.drop(columns=\"id\", inplace=True)\n",
    "data.head()"
   ]
  },
  {
   "cell_type": "code",
   "execution_count": 15,
   "metadata": {},
   "outputs": [
    {
     "data": {
      "text/plain": [
       "never smoked       1852\n",
       "Unknown            1483\n",
       "formerly smoked     836\n",
       "smokes              737\n",
       "Name: smoking_status, dtype: int64"
      ]
     },
     "execution_count": 15,
     "metadata": {},
     "output_type": "execute_result"
    }
   ],
   "source": [
    "data[\"smoking_status\"].value_counts()"
   ]
  },
  {
   "cell_type": "code",
   "execution_count": 16,
   "metadata": {},
   "outputs": [
    {
     "data": {
      "text/html": [
       "<div>\n",
       "<style scoped>\n",
       "    .dataframe tbody tr th:only-of-type {\n",
       "        vertical-align: middle;\n",
       "    }\n",
       "\n",
       "    .dataframe tbody tr th {\n",
       "        vertical-align: top;\n",
       "    }\n",
       "\n",
       "    .dataframe thead th {\n",
       "        text-align: right;\n",
       "    }\n",
       "</style>\n",
       "<table border=\"1\" class=\"dataframe\">\n",
       "  <thead>\n",
       "    <tr style=\"text-align: right;\">\n",
       "      <th></th>\n",
       "      <th>hypertension</th>\n",
       "      <th>heart_disease</th>\n",
       "      <th>avg_glucose_level</th>\n",
       "      <th>bmi</th>\n",
       "      <th>smoking_status</th>\n",
       "      <th>stroke</th>\n",
       "      <th>AgeGroup</th>\n",
       "      <th>gender_Female</th>\n",
       "      <th>gender_Male</th>\n",
       "      <th>ever_married_No</th>\n",
       "      <th>ever_married_Yes</th>\n",
       "      <th>work_type_Govt_job</th>\n",
       "      <th>work_type_Never_worked</th>\n",
       "      <th>work_type_Private</th>\n",
       "      <th>work_type_Self-employed</th>\n",
       "      <th>work_type_children</th>\n",
       "      <th>Residence_type_Rural</th>\n",
       "      <th>Residence_type_Urban</th>\n",
       "    </tr>\n",
       "  </thead>\n",
       "  <tbody>\n",
       "    <tr>\n",
       "      <th>0</th>\n",
       "      <td>0</td>\n",
       "      <td>1</td>\n",
       "      <td>228.69</td>\n",
       "      <td>36.6</td>\n",
       "      <td>2</td>\n",
       "      <td>1</td>\n",
       "      <td>4</td>\n",
       "      <td>0</td>\n",
       "      <td>1</td>\n",
       "      <td>0</td>\n",
       "      <td>1</td>\n",
       "      <td>0</td>\n",
       "      <td>0</td>\n",
       "      <td>1</td>\n",
       "      <td>0</td>\n",
       "      <td>0</td>\n",
       "      <td>0</td>\n",
       "      <td>1</td>\n",
       "    </tr>\n",
       "    <tr>\n",
       "      <th>2</th>\n",
       "      <td>0</td>\n",
       "      <td>1</td>\n",
       "      <td>105.92</td>\n",
       "      <td>32.5</td>\n",
       "      <td>0</td>\n",
       "      <td>1</td>\n",
       "      <td>4</td>\n",
       "      <td>0</td>\n",
       "      <td>1</td>\n",
       "      <td>0</td>\n",
       "      <td>1</td>\n",
       "      <td>0</td>\n",
       "      <td>0</td>\n",
       "      <td>1</td>\n",
       "      <td>0</td>\n",
       "      <td>0</td>\n",
       "      <td>1</td>\n",
       "      <td>0</td>\n",
       "    </tr>\n",
       "    <tr>\n",
       "      <th>3</th>\n",
       "      <td>0</td>\n",
       "      <td>0</td>\n",
       "      <td>171.23</td>\n",
       "      <td>34.4</td>\n",
       "      <td>3</td>\n",
       "      <td>1</td>\n",
       "      <td>2</td>\n",
       "      <td>1</td>\n",
       "      <td>0</td>\n",
       "      <td>0</td>\n",
       "      <td>1</td>\n",
       "      <td>0</td>\n",
       "      <td>0</td>\n",
       "      <td>1</td>\n",
       "      <td>0</td>\n",
       "      <td>0</td>\n",
       "      <td>0</td>\n",
       "      <td>1</td>\n",
       "    </tr>\n",
       "    <tr>\n",
       "      <th>4</th>\n",
       "      <td>1</td>\n",
       "      <td>0</td>\n",
       "      <td>174.12</td>\n",
       "      <td>24.0</td>\n",
       "      <td>0</td>\n",
       "      <td>1</td>\n",
       "      <td>4</td>\n",
       "      <td>1</td>\n",
       "      <td>0</td>\n",
       "      <td>0</td>\n",
       "      <td>1</td>\n",
       "      <td>0</td>\n",
       "      <td>0</td>\n",
       "      <td>0</td>\n",
       "      <td>1</td>\n",
       "      <td>0</td>\n",
       "      <td>1</td>\n",
       "      <td>0</td>\n",
       "    </tr>\n",
       "    <tr>\n",
       "      <th>5</th>\n",
       "      <td>0</td>\n",
       "      <td>0</td>\n",
       "      <td>186.21</td>\n",
       "      <td>29.0</td>\n",
       "      <td>2</td>\n",
       "      <td>1</td>\n",
       "      <td>4</td>\n",
       "      <td>0</td>\n",
       "      <td>1</td>\n",
       "      <td>0</td>\n",
       "      <td>1</td>\n",
       "      <td>0</td>\n",
       "      <td>0</td>\n",
       "      <td>1</td>\n",
       "      <td>0</td>\n",
       "      <td>0</td>\n",
       "      <td>0</td>\n",
       "      <td>1</td>\n",
       "    </tr>\n",
       "  </tbody>\n",
       "</table>\n",
       "</div>"
      ],
      "text/plain": [
       "   hypertension  heart_disease  avg_glucose_level   bmi  smoking_status  \\\n",
       "0             0              1             228.69  36.6               2   \n",
       "2             0              1             105.92  32.5               0   \n",
       "3             0              0             171.23  34.4               3   \n",
       "4             1              0             174.12  24.0               0   \n",
       "5             0              0             186.21  29.0               2   \n",
       "\n",
       "   stroke  AgeGroup  gender_Female  gender_Male  ever_married_No  \\\n",
       "0       1         4              0            1                0   \n",
       "2       1         4              0            1                0   \n",
       "3       1         2              1            0                0   \n",
       "4       1         4              1            0                0   \n",
       "5       1         4              0            1                0   \n",
       "\n",
       "   ever_married_Yes  work_type_Govt_job  work_type_Never_worked  \\\n",
       "0                 1                   0                       0   \n",
       "2                 1                   0                       0   \n",
       "3                 1                   0                       0   \n",
       "4                 1                   0                       0   \n",
       "5                 1                   0                       0   \n",
       "\n",
       "   work_type_Private  work_type_Self-employed  work_type_children  \\\n",
       "0                  1                        0                   0   \n",
       "2                  1                        0                   0   \n",
       "3                  1                        0                   0   \n",
       "4                  0                        1                   0   \n",
       "5                  1                        0                   0   \n",
       "\n",
       "   Residence_type_Rural  Residence_type_Urban  \n",
       "0                     0                     1  \n",
       "2                     1                     0  \n",
       "3                     0                     1  \n",
       "4                     1                     0  \n",
       "5                     0                     1  "
      ]
     },
     "execution_count": 16,
     "metadata": {},
     "output_type": "execute_result"
    }
   ],
   "source": [
    "data['smoking_status'] = data['smoking_status'].map({'never smoked': 0,'Unknown': 1,'formerly smoked': 2,'smokes': 3})\n",
    "data['smoking_status'].astype(int)\n",
    "data.head()"
   ]
  },
  {
   "cell_type": "code",
   "execution_count": 17,
   "metadata": {},
   "outputs": [],
   "source": [
    "# change the data type of the 'bmi' column to float\n",
    "data = data.apply(pd.to_numeric, errors='coerce')"
   ]
  },
  {
   "cell_type": "markdown",
   "metadata": {},
   "source": []
  },
  {
   "cell_type": "markdown",
   "metadata": {},
   "source": [
    "## Feature Selection"
   ]
  },
  {
   "cell_type": "code",
   "execution_count": 18,
   "metadata": {},
   "outputs": [
    {
     "data": {
      "application/vnd.plotly.v1+json": {
       "config": {
        "plotlyServerURL": "https://plot.ly"
       },
       "data": [
        {
         "coloraxis": "coloraxis",
         "hovertemplate": "x: %{x}<br>y: %{y}<br>color: %{z}<extra></extra>",
         "name": "0",
         "type": "heatmap",
         "x": [
          "hypertension",
          "heart_disease",
          "avg_glucose_level",
          "bmi",
          "smoking_status",
          "stroke",
          "AgeGroup",
          "gender_Female",
          "gender_Male",
          "ever_married_No",
          "ever_married_Yes",
          "work_type_Govt_job",
          "work_type_Never_worked",
          "work_type_Private",
          "work_type_Self-employed",
          "work_type_children",
          "Residence_type_Rural",
          "Residence_type_Urban"
         ],
         "xaxis": "x",
         "y": [
          "hypertension",
          "heart_disease",
          "avg_glucose_level",
          "bmi",
          "smoking_status",
          "stroke",
          "AgeGroup",
          "gender_Female",
          "gender_Male",
          "ever_married_No",
          "ever_married_Yes",
          "work_type_Govt_job",
          "work_type_Never_worked",
          "work_type_Private",
          "work_type_Self-employed",
          "work_type_children",
          "Residence_type_Rural",
          "Residence_type_Urban"
         ],
         "yaxis": "y",
         "z": [
          [
           1,
           0.11597801292122191,
           0.1806135202480601,
           0.1677704154218704,
           0.010514533213126582,
           0.142503054232672,
           0.2766075820093508,
           0.021811018257696175,
           0.02181101825769622,
           0.1623501788847683,
           0.16235017888476866,
           0.019207266443323184,
           0.02134526559365771,
           0.004581062357765926,
           0.11176962762931782,
           0.12658987819313844,
           0.001140027427720034,
           0.001140027427720134
          ],
          [
           0.11597801292122191,
           1,
           0.15457728260523296,
           0.04132209529578959,
           0.06715087585172748,
           0.13792933918600506,
           0.2550631379226622,
           0.0829504752859107,
           0.08295047528591074,
           0.1112032615454831,
           0.11120326154548313,
           0.005076913905627936,
           0.015314820884423137,
           0.00023905818196011844,
           0.08146613851017462,
           0.08809190720697861,
           0.0024091839205501084,
           0.002409183920550267
          ],
          [
           0.1806135202480601,
           0.15457728260523296,
           1,
           0.17567173570874292,
           0.018793143143188553,
           0.13898364739425137,
           0.24273530344315805,
           0.05316084152750742,
           0.0531608415275074,
           0.1516568278269358,
           0.15165682782693568,
           0.01779126865380792,
           0.01398000126675494,
           0.009123548584621244,
           0.06913270587107759,
           0.10112182891839092,
           0.007440920716870865,
           0.007440920716871034
          ],
          [
           0.1677704154218704,
           0.04132209529578959,
           0.17567173570874292,
           1,
           0.04794375572507279,
           0.042341277180277734,
           0.3151970032350093,
           0.02616387092047147,
           0.026163870920471413,
           0.3415528931085111,
           0.34155289310851117,
           0.07952570014932982,
           0.02861535120569906,
           0.20820477577389052,
           0.07263436600797503,
           0.4487790840577977,
           0.0002934105079286794,
           0.00029341050792875
          ],
          [
           0.010514533213126582,
           0.06715087585172748,
           0.018793143143188553,
           0.04794375572507279,
           1,
           0.02977210090306169,
           0.0837320525854873,
           0.06416762079442706,
           0.06416762079442709,
           0.08579802192775535,
           0.08579802192775528,
           0.01039071510158322,
           0.04586561197592458,
           0.02460608232119622,
           0.01815124838103322,
           0.055897853360989284,
           0.03269426321212805,
           0.03269426321212807
          ],
          [
           0.142503054232672,
           0.13792933918600506,
           0.13898364739425137,
           0.042341277180277734,
           0.02977210090306169,
           1,
           0.22771375108475203,
           0.006903507999546921,
           0.0069035079995474775,
           0.10505083413989931,
           0.10505083413989964,
           0.003536741570834824,
           0.014151583220198376,
           0.014972153714534796,
           0.05533838234262163,
           0.08098991316063481,
           0.005988490147014005,
           0.005988490147013398
          ],
          [
           0.2766075820093508,
           0.2550631379226622,
           0.24273530344315805,
           0.3151970032350093,
           0.0837320525854873,
           0.22771375108475203,
           1,
           0.02483728557292264,
           0.02483728557292251,
           0.6665600257589107,
           0.6665600257589103,
           0.13495285080591934,
           0.09507223348690005,
           0.099474870680767,
           0.31474451309937546,
           0.5902350283283235,
           0.010806048031447937,
           0.010806048031447621
          ],
          [
           0.021811018257696175,
           0.0829504752859107,
           0.05316084152750742,
           0.02616387092047147,
           0.06416762079442706,
           0.006903507999546921,
           0.02483728557292264,
           1,
           1,
           0.036380212121724,
           0.036380212121724,
           0.015031361670711325,
           0.012315670255391075,
           0.03883102233664122,
           0.02220958297907496,
           0.09173152750654982,
           0.004351172628489108,
           0.00435117262848913
          ],
          [
           0.02181101825769622,
           0.08295047528591074,
           0.0531608415275074,
           0.026163870920471413,
           0.06416762079442709,
           0.0069035079995474775,
           0.02483728557292251,
           1,
           1,
           0.03638021212172382,
           0.03638021212172385,
           0.015031361670711332,
           0.012315670255391086,
           0.03883102233664118,
           0.022209582979074896,
           0.0917315275065498,
           0.004351172628489083,
           0.004351172628489143
          ],
          [
           0.1623501788847683,
           0.1112032615454831,
           0.1516568278269358,
           0.3415528931085111,
           0.08579802192775535,
           0.10505083413989931,
           0.6665600257589107,
           0.036380212121724,
           0.03638021212172382,
           1,
           0.9999999999999996,
           0.13783638735325618,
           0.09201233831275157,
           0.1571017810272913,
           0.19138876134502025,
           0.5456868478946412,
           0.004707191109044094,
           0.004707191109044027
          ],
          [
           0.16235017888476866,
           0.11120326154548313,
           0.15165682782693568,
           0.34155289310851117,
           0.08579802192775528,
           0.10505083413989964,
           0.6665600257589103,
           0.036380212121724,
           0.03638021212172385,
           0.9999999999999996,
           1,
           0.13783638735325626,
           0.09201233831275159,
           0.15710178102729108,
           0.19138876134502053,
           0.5456868478946411,
           0.004707191109044113,
           0.0047071911090441
          ],
          [
           0.019207266443323184,
           0.005076913905627936,
           0.01779126865380792,
           0.07952570014932982,
           0.01039071510158322,
           0.003536741570834824,
           0.13495285080591934,
           0.015031361670711325,
           0.015031361670711332,
           0.13783638735325618,
           0.13783638735325626,
           1,
           0.025750430479592062,
           0.44411997084505983,
           0.16617589757124707,
           0.15271507602139994,
           0.010208850966299497,
           0.010208850966299567
          ],
          [
           0.02134526559365771,
           0.015314820884423137,
           0.01398000126675494,
           0.02861535120569906,
           0.04586561197592458,
           0.014151583220198376,
           0.09507223348690005,
           0.012315670255391075,
           0.012315670255391086,
           0.09201233831275157,
           0.09201233831275159,
           0.025750430479592062,
           1,
           0.07765778999362757,
           0.029057132763103285,
           0.026703404667808045,
           0.023418819803151695,
           0.0234188198031517
          ],
          [
           0.004581062357765926,
           0.00023905818196011844,
           0.009123548584621244,
           0.20820477577389052,
           0.02460608232119622,
           0.014972153714534796,
           0.099474870680767,
           0.03883102233664122,
           0.03883102233664118,
           0.1571017810272913,
           0.15710178102729108,
           0.44411997084505983,
           0.07765778999362757,
           1,
           0.5011509600128019,
           0.4605560016532444,
           0.01697950780658445,
           0.016979507806584585
          ],
          [
           0.11176962762931782,
           0.08146613851017462,
           0.06913270587107759,
           0.07263436600797503,
           0.01815124838103322,
           0.05533838234262163,
           0.31474451309937546,
           0.02220958297907496,
           0.022209582979074896,
           0.19138876134502025,
           0.19138876134502053,
           0.16617589757124707,
           0.029057132763103285,
           0.5011509600128019,
           1,
           0.17232574975389398,
           0.012087483714097713,
           0.012087483714097668
          ],
          [
           0.12658987819313844,
           0.08809190720697861,
           0.10112182891839092,
           0.4487790840577977,
           0.055897853360989284,
           0.08098991316063481,
           0.5902350283283235,
           0.09173152750654982,
           0.0917315275065498,
           0.5456868478946412,
           0.5456868478946411,
           0.15271507602139994,
           0.026703404667808045,
           0.4605560016532444,
           0.17232574975389398,
           1,
           0.0028728795111927032,
           0.0028728795111926326
          ],
          [
           0.001140027427720034,
           0.0024091839205501084,
           0.007440920716870865,
           0.0002934105079286794,
           0.03269426321212805,
           0.005988490147014005,
           0.010806048031447937,
           0.004351172628489108,
           0.004351172628489083,
           0.004707191109044094,
           0.004707191109044113,
           0.010208850966299497,
           0.023418819803151695,
           0.01697950780658445,
           0.012087483714097713,
           0.0028728795111927032,
           1,
           1.0000000000000004
          ],
          [
           0.001140027427720134,
           0.002409183920550267,
           0.007440920716871034,
           0.00029341050792875,
           0.03269426321212807,
           0.005988490147013398,
           0.010806048031447621,
           0.00435117262848913,
           0.004351172628489143,
           0.004707191109044027,
           0.0047071911090441,
           0.010208850966299567,
           0.0234188198031517,
           0.016979507806584585,
           0.012087483714097668,
           0.0028728795111926326,
           1.0000000000000004,
           1
          ]
         ]
        }
       ],
       "layout": {
        "annotations": [
         {
          "font": {
           "size": 8
          },
          "showarrow": false,
          "text": "1.00",
          "x": "hypertension",
          "y": "hypertension"
         },
         {
          "font": {
           "size": 8
          },
          "showarrow": false,
          "text": "0.12",
          "x": "heart_disease",
          "y": "hypertension"
         },
         {
          "font": {
           "size": 8
          },
          "showarrow": false,
          "text": "0.18",
          "x": "avg_glucose_level",
          "y": "hypertension"
         },
         {
          "font": {
           "size": 8
          },
          "showarrow": false,
          "text": "0.17",
          "x": "bmi",
          "y": "hypertension"
         },
         {
          "font": {
           "size": 8
          },
          "showarrow": false,
          "text": "0.01",
          "x": "smoking_status",
          "y": "hypertension"
         },
         {
          "font": {
           "size": 8
          },
          "showarrow": false,
          "text": "0.14",
          "x": "stroke",
          "y": "hypertension"
         },
         {
          "font": {
           "size": 8
          },
          "showarrow": false,
          "text": "0.28",
          "x": "AgeGroup",
          "y": "hypertension"
         },
         {
          "font": {
           "size": 8
          },
          "showarrow": false,
          "text": "0.02",
          "x": "gender_Female",
          "y": "hypertension"
         },
         {
          "font": {
           "size": 8
          },
          "showarrow": false,
          "text": "0.02",
          "x": "gender_Male",
          "y": "hypertension"
         },
         {
          "font": {
           "size": 8
          },
          "showarrow": false,
          "text": "0.16",
          "x": "ever_married_No",
          "y": "hypertension"
         },
         {
          "font": {
           "size": 8
          },
          "showarrow": false,
          "text": "0.16",
          "x": "ever_married_Yes",
          "y": "hypertension"
         },
         {
          "font": {
           "size": 8
          },
          "showarrow": false,
          "text": "0.02",
          "x": "work_type_Govt_job",
          "y": "hypertension"
         },
         {
          "font": {
           "size": 8
          },
          "showarrow": false,
          "text": "0.02",
          "x": "work_type_Never_worked",
          "y": "hypertension"
         },
         {
          "font": {
           "size": 8
          },
          "showarrow": false,
          "text": "0.00",
          "x": "work_type_Private",
          "y": "hypertension"
         },
         {
          "font": {
           "size": 8
          },
          "showarrow": false,
          "text": "0.11",
          "x": "work_type_Self-employed",
          "y": "hypertension"
         },
         {
          "font": {
           "size": 8
          },
          "showarrow": false,
          "text": "0.13",
          "x": "work_type_children",
          "y": "hypertension"
         },
         {
          "font": {
           "size": 8
          },
          "showarrow": false,
          "text": "0.00",
          "x": "Residence_type_Rural",
          "y": "hypertension"
         },
         {
          "font": {
           "size": 8
          },
          "showarrow": false,
          "text": "0.00",
          "x": "Residence_type_Urban",
          "y": "hypertension"
         },
         {
          "font": {
           "size": 8
          },
          "showarrow": false,
          "text": "0.12",
          "x": "hypertension",
          "y": "heart_disease"
         },
         {
          "font": {
           "size": 8
          },
          "showarrow": false,
          "text": "1.00",
          "x": "heart_disease",
          "y": "heart_disease"
         },
         {
          "font": {
           "size": 8
          },
          "showarrow": false,
          "text": "0.15",
          "x": "avg_glucose_level",
          "y": "heart_disease"
         },
         {
          "font": {
           "size": 8
          },
          "showarrow": false,
          "text": "0.04",
          "x": "bmi",
          "y": "heart_disease"
         },
         {
          "font": {
           "size": 8
          },
          "showarrow": false,
          "text": "0.07",
          "x": "smoking_status",
          "y": "heart_disease"
         },
         {
          "font": {
           "size": 8
          },
          "showarrow": false,
          "text": "0.14",
          "x": "stroke",
          "y": "heart_disease"
         },
         {
          "font": {
           "size": 8
          },
          "showarrow": false,
          "text": "0.26",
          "x": "AgeGroup",
          "y": "heart_disease"
         },
         {
          "font": {
           "size": 8
          },
          "showarrow": false,
          "text": "0.08",
          "x": "gender_Female",
          "y": "heart_disease"
         },
         {
          "font": {
           "size": 8
          },
          "showarrow": false,
          "text": "0.08",
          "x": "gender_Male",
          "y": "heart_disease"
         },
         {
          "font": {
           "size": 8
          },
          "showarrow": false,
          "text": "0.11",
          "x": "ever_married_No",
          "y": "heart_disease"
         },
         {
          "font": {
           "size": 8
          },
          "showarrow": false,
          "text": "0.11",
          "x": "ever_married_Yes",
          "y": "heart_disease"
         },
         {
          "font": {
           "size": 8
          },
          "showarrow": false,
          "text": "0.01",
          "x": "work_type_Govt_job",
          "y": "heart_disease"
         },
         {
          "font": {
           "size": 8
          },
          "showarrow": false,
          "text": "0.02",
          "x": "work_type_Never_worked",
          "y": "heart_disease"
         },
         {
          "font": {
           "size": 8
          },
          "showarrow": false,
          "text": "0.00",
          "x": "work_type_Private",
          "y": "heart_disease"
         },
         {
          "font": {
           "size": 8
          },
          "showarrow": false,
          "text": "0.08",
          "x": "work_type_Self-employed",
          "y": "heart_disease"
         },
         {
          "font": {
           "size": 8
          },
          "showarrow": false,
          "text": "0.09",
          "x": "work_type_children",
          "y": "heart_disease"
         },
         {
          "font": {
           "size": 8
          },
          "showarrow": false,
          "text": "0.00",
          "x": "Residence_type_Rural",
          "y": "heart_disease"
         },
         {
          "font": {
           "size": 8
          },
          "showarrow": false,
          "text": "0.00",
          "x": "Residence_type_Urban",
          "y": "heart_disease"
         },
         {
          "font": {
           "size": 8
          },
          "showarrow": false,
          "text": "0.18",
          "x": "hypertension",
          "y": "avg_glucose_level"
         },
         {
          "font": {
           "size": 8
          },
          "showarrow": false,
          "text": "0.15",
          "x": "heart_disease",
          "y": "avg_glucose_level"
         },
         {
          "font": {
           "size": 8
          },
          "showarrow": false,
          "text": "1.00",
          "x": "avg_glucose_level",
          "y": "avg_glucose_level"
         },
         {
          "font": {
           "size": 8
          },
          "showarrow": false,
          "text": "0.18",
          "x": "bmi",
          "y": "avg_glucose_level"
         },
         {
          "font": {
           "size": 8
          },
          "showarrow": false,
          "text": "0.02",
          "x": "smoking_status",
          "y": "avg_glucose_level"
         },
         {
          "font": {
           "size": 8
          },
          "showarrow": false,
          "text": "0.14",
          "x": "stroke",
          "y": "avg_glucose_level"
         },
         {
          "font": {
           "size": 8
          },
          "showarrow": false,
          "text": "0.24",
          "x": "AgeGroup",
          "y": "avg_glucose_level"
         },
         {
          "font": {
           "size": 8
          },
          "showarrow": false,
          "text": "0.05",
          "x": "gender_Female",
          "y": "avg_glucose_level"
         },
         {
          "font": {
           "size": 8
          },
          "showarrow": false,
          "text": "0.05",
          "x": "gender_Male",
          "y": "avg_glucose_level"
         },
         {
          "font": {
           "size": 8
          },
          "showarrow": false,
          "text": "0.15",
          "x": "ever_married_No",
          "y": "avg_glucose_level"
         },
         {
          "font": {
           "size": 8
          },
          "showarrow": false,
          "text": "0.15",
          "x": "ever_married_Yes",
          "y": "avg_glucose_level"
         },
         {
          "font": {
           "size": 8
          },
          "showarrow": false,
          "text": "0.02",
          "x": "work_type_Govt_job",
          "y": "avg_glucose_level"
         },
         {
          "font": {
           "size": 8
          },
          "showarrow": false,
          "text": "0.01",
          "x": "work_type_Never_worked",
          "y": "avg_glucose_level"
         },
         {
          "font": {
           "size": 8
          },
          "showarrow": false,
          "text": "0.01",
          "x": "work_type_Private",
          "y": "avg_glucose_level"
         },
         {
          "font": {
           "size": 8
          },
          "showarrow": false,
          "text": "0.07",
          "x": "work_type_Self-employed",
          "y": "avg_glucose_level"
         },
         {
          "font": {
           "size": 8
          },
          "showarrow": false,
          "text": "0.10",
          "x": "work_type_children",
          "y": "avg_glucose_level"
         },
         {
          "font": {
           "size": 8
          },
          "showarrow": false,
          "text": "0.01",
          "x": "Residence_type_Rural",
          "y": "avg_glucose_level"
         },
         {
          "font": {
           "size": 8
          },
          "showarrow": false,
          "text": "0.01",
          "x": "Residence_type_Urban",
          "y": "avg_glucose_level"
         },
         {
          "font": {
           "size": 8
          },
          "showarrow": false,
          "text": "0.17",
          "x": "hypertension",
          "y": "bmi"
         },
         {
          "font": {
           "size": 8
          },
          "showarrow": false,
          "text": "0.04",
          "x": "heart_disease",
          "y": "bmi"
         },
         {
          "font": {
           "size": 8
          },
          "showarrow": false,
          "text": "0.18",
          "x": "avg_glucose_level",
          "y": "bmi"
         },
         {
          "font": {
           "size": 8
          },
          "showarrow": false,
          "text": "1.00",
          "x": "bmi",
          "y": "bmi"
         },
         {
          "font": {
           "size": 8
          },
          "showarrow": false,
          "text": "0.05",
          "x": "smoking_status",
          "y": "bmi"
         },
         {
          "font": {
           "size": 8
          },
          "showarrow": false,
          "text": "0.04",
          "x": "stroke",
          "y": "bmi"
         },
         {
          "font": {
           "size": 8
          },
          "showarrow": false,
          "text": "0.32",
          "x": "AgeGroup",
          "y": "bmi"
         },
         {
          "font": {
           "size": 8
          },
          "showarrow": false,
          "text": "0.03",
          "x": "gender_Female",
          "y": "bmi"
         },
         {
          "font": {
           "size": 8
          },
          "showarrow": false,
          "text": "0.03",
          "x": "gender_Male",
          "y": "bmi"
         },
         {
          "font": {
           "size": 8
          },
          "showarrow": false,
          "text": "0.34",
          "x": "ever_married_No",
          "y": "bmi"
         },
         {
          "font": {
           "size": 8
          },
          "showarrow": false,
          "text": "0.34",
          "x": "ever_married_Yes",
          "y": "bmi"
         },
         {
          "font": {
           "size": 8
          },
          "showarrow": false,
          "text": "0.08",
          "x": "work_type_Govt_job",
          "y": "bmi"
         },
         {
          "font": {
           "size": 8
          },
          "showarrow": false,
          "text": "0.03",
          "x": "work_type_Never_worked",
          "y": "bmi"
         },
         {
          "font": {
           "size": 8
          },
          "showarrow": false,
          "text": "0.21",
          "x": "work_type_Private",
          "y": "bmi"
         },
         {
          "font": {
           "size": 8
          },
          "showarrow": false,
          "text": "0.07",
          "x": "work_type_Self-employed",
          "y": "bmi"
         },
         {
          "font": {
           "size": 8
          },
          "showarrow": false,
          "text": "0.45",
          "x": "work_type_children",
          "y": "bmi"
         },
         {
          "font": {
           "size": 8
          },
          "showarrow": false,
          "text": "0.00",
          "x": "Residence_type_Rural",
          "y": "bmi"
         },
         {
          "font": {
           "size": 8
          },
          "showarrow": false,
          "text": "0.00",
          "x": "Residence_type_Urban",
          "y": "bmi"
         },
         {
          "font": {
           "size": 8
          },
          "showarrow": false,
          "text": "0.01",
          "x": "hypertension",
          "y": "smoking_status"
         },
         {
          "font": {
           "size": 8
          },
          "showarrow": false,
          "text": "0.07",
          "x": "heart_disease",
          "y": "smoking_status"
         },
         {
          "font": {
           "size": 8
          },
          "showarrow": false,
          "text": "0.02",
          "x": "avg_glucose_level",
          "y": "smoking_status"
         },
         {
          "font": {
           "size": 8
          },
          "showarrow": false,
          "text": "0.05",
          "x": "bmi",
          "y": "smoking_status"
         },
         {
          "font": {
           "size": 8
          },
          "showarrow": false,
          "text": "1.00",
          "x": "smoking_status",
          "y": "smoking_status"
         },
         {
          "font": {
           "size": 8
          },
          "showarrow": false,
          "text": "0.03",
          "x": "stroke",
          "y": "smoking_status"
         },
         {
          "font": {
           "size": 8
          },
          "showarrow": false,
          "text": "0.08",
          "x": "AgeGroup",
          "y": "smoking_status"
         },
         {
          "font": {
           "size": 8
          },
          "showarrow": false,
          "text": "0.06",
          "x": "gender_Female",
          "y": "smoking_status"
         },
         {
          "font": {
           "size": 8
          },
          "showarrow": false,
          "text": "0.06",
          "x": "gender_Male",
          "y": "smoking_status"
         },
         {
          "font": {
           "size": 8
          },
          "showarrow": false,
          "text": "0.09",
          "x": "ever_married_No",
          "y": "smoking_status"
         },
         {
          "font": {
           "size": 8
          },
          "showarrow": false,
          "text": "0.09",
          "x": "ever_married_Yes",
          "y": "smoking_status"
         },
         {
          "font": {
           "size": 8
          },
          "showarrow": false,
          "text": "0.01",
          "x": "work_type_Govt_job",
          "y": "smoking_status"
         },
         {
          "font": {
           "size": 8
          },
          "showarrow": false,
          "text": "0.05",
          "x": "work_type_Never_worked",
          "y": "smoking_status"
         },
         {
          "font": {
           "size": 8
          },
          "showarrow": false,
          "text": "0.02",
          "x": "work_type_Private",
          "y": "smoking_status"
         },
         {
          "font": {
           "size": 8
          },
          "showarrow": false,
          "text": "0.02",
          "x": "work_type_Self-employed",
          "y": "smoking_status"
         },
         {
          "font": {
           "size": 8
          },
          "showarrow": false,
          "text": "0.06",
          "x": "work_type_children",
          "y": "smoking_status"
         },
         {
          "font": {
           "size": 8
          },
          "showarrow": false,
          "text": "0.03",
          "x": "Residence_type_Rural",
          "y": "smoking_status"
         },
         {
          "font": {
           "size": 8
          },
          "showarrow": false,
          "text": "0.03",
          "x": "Residence_type_Urban",
          "y": "smoking_status"
         },
         {
          "font": {
           "size": 8
          },
          "showarrow": false,
          "text": "0.14",
          "x": "hypertension",
          "y": "stroke"
         },
         {
          "font": {
           "size": 8
          },
          "showarrow": false,
          "text": "0.14",
          "x": "heart_disease",
          "y": "stroke"
         },
         {
          "font": {
           "size": 8
          },
          "showarrow": false,
          "text": "0.14",
          "x": "avg_glucose_level",
          "y": "stroke"
         },
         {
          "font": {
           "size": 8
          },
          "showarrow": false,
          "text": "0.04",
          "x": "bmi",
          "y": "stroke"
         },
         {
          "font": {
           "size": 8
          },
          "showarrow": false,
          "text": "0.03",
          "x": "smoking_status",
          "y": "stroke"
         },
         {
          "font": {
           "size": 8
          },
          "showarrow": false,
          "text": "1.00",
          "x": "stroke",
          "y": "stroke"
         },
         {
          "font": {
           "size": 8
          },
          "showarrow": false,
          "text": "0.23",
          "x": "AgeGroup",
          "y": "stroke"
         },
         {
          "font": {
           "size": 8
          },
          "showarrow": false,
          "text": "0.01",
          "x": "gender_Female",
          "y": "stroke"
         },
         {
          "font": {
           "size": 8
          },
          "showarrow": false,
          "text": "0.01",
          "x": "gender_Male",
          "y": "stroke"
         },
         {
          "font": {
           "size": 8
          },
          "showarrow": false,
          "text": "0.11",
          "x": "ever_married_No",
          "y": "stroke"
         },
         {
          "font": {
           "size": 8
          },
          "showarrow": false,
          "text": "0.11",
          "x": "ever_married_Yes",
          "y": "stroke"
         },
         {
          "font": {
           "size": 8
          },
          "showarrow": false,
          "text": "0.00",
          "x": "work_type_Govt_job",
          "y": "stroke"
         },
         {
          "font": {
           "size": 8
          },
          "showarrow": false,
          "text": "0.01",
          "x": "work_type_Never_worked",
          "y": "stroke"
         },
         {
          "font": {
           "size": 8
          },
          "showarrow": false,
          "text": "0.01",
          "x": "work_type_Private",
          "y": "stroke"
         },
         {
          "font": {
           "size": 8
          },
          "showarrow": false,
          "text": "0.06",
          "x": "work_type_Self-employed",
          "y": "stroke"
         },
         {
          "font": {
           "size": 8
          },
          "showarrow": false,
          "text": "0.08",
          "x": "work_type_children",
          "y": "stroke"
         },
         {
          "font": {
           "size": 8
          },
          "showarrow": false,
          "text": "0.01",
          "x": "Residence_type_Rural",
          "y": "stroke"
         },
         {
          "font": {
           "size": 8
          },
          "showarrow": false,
          "text": "0.01",
          "x": "Residence_type_Urban",
          "y": "stroke"
         },
         {
          "font": {
           "size": 8
          },
          "showarrow": false,
          "text": "0.28",
          "x": "hypertension",
          "y": "AgeGroup"
         },
         {
          "font": {
           "size": 8
          },
          "showarrow": false,
          "text": "0.26",
          "x": "heart_disease",
          "y": "AgeGroup"
         },
         {
          "font": {
           "size": 8
          },
          "showarrow": false,
          "text": "0.24",
          "x": "avg_glucose_level",
          "y": "AgeGroup"
         },
         {
          "font": {
           "size": 8
          },
          "showarrow": false,
          "text": "0.32",
          "x": "bmi",
          "y": "AgeGroup"
         },
         {
          "font": {
           "size": 8
          },
          "showarrow": false,
          "text": "0.08",
          "x": "smoking_status",
          "y": "AgeGroup"
         },
         {
          "font": {
           "size": 8
          },
          "showarrow": false,
          "text": "0.23",
          "x": "stroke",
          "y": "AgeGroup"
         },
         {
          "font": {
           "size": 8
          },
          "showarrow": false,
          "text": "1.00",
          "x": "AgeGroup",
          "y": "AgeGroup"
         },
         {
          "font": {
           "size": 8
          },
          "showarrow": false,
          "text": "0.02",
          "x": "gender_Female",
          "y": "AgeGroup"
         },
         {
          "font": {
           "size": 8
          },
          "showarrow": false,
          "text": "0.02",
          "x": "gender_Male",
          "y": "AgeGroup"
         },
         {
          "font": {
           "size": 8
          },
          "showarrow": false,
          "text": "0.67",
          "x": "ever_married_No",
          "y": "AgeGroup"
         },
         {
          "font": {
           "size": 8
          },
          "showarrow": false,
          "text": "0.67",
          "x": "ever_married_Yes",
          "y": "AgeGroup"
         },
         {
          "font": {
           "size": 8
          },
          "showarrow": false,
          "text": "0.13",
          "x": "work_type_Govt_job",
          "y": "AgeGroup"
         },
         {
          "font": {
           "size": 8
          },
          "showarrow": false,
          "text": "0.10",
          "x": "work_type_Never_worked",
          "y": "AgeGroup"
         },
         {
          "font": {
           "size": 8
          },
          "showarrow": false,
          "text": "0.10",
          "x": "work_type_Private",
          "y": "AgeGroup"
         },
         {
          "font": {
           "size": 8
          },
          "showarrow": false,
          "text": "0.31",
          "x": "work_type_Self-employed",
          "y": "AgeGroup"
         },
         {
          "font": {
           "size": 8
          },
          "showarrow": false,
          "text": "0.59",
          "x": "work_type_children",
          "y": "AgeGroup"
         },
         {
          "font": {
           "size": 8
          },
          "showarrow": false,
          "text": "0.01",
          "x": "Residence_type_Rural",
          "y": "AgeGroup"
         },
         {
          "font": {
           "size": 8
          },
          "showarrow": false,
          "text": "0.01",
          "x": "Residence_type_Urban",
          "y": "AgeGroup"
         },
         {
          "font": {
           "size": 8
          },
          "showarrow": false,
          "text": "0.02",
          "x": "hypertension",
          "y": "gender_Female"
         },
         {
          "font": {
           "size": 8
          },
          "showarrow": false,
          "text": "0.08",
          "x": "heart_disease",
          "y": "gender_Female"
         },
         {
          "font": {
           "size": 8
          },
          "showarrow": false,
          "text": "0.05",
          "x": "avg_glucose_level",
          "y": "gender_Female"
         },
         {
          "font": {
           "size": 8
          },
          "showarrow": false,
          "text": "0.03",
          "x": "bmi",
          "y": "gender_Female"
         },
         {
          "font": {
           "size": 8
          },
          "showarrow": false,
          "text": "0.06",
          "x": "smoking_status",
          "y": "gender_Female"
         },
         {
          "font": {
           "size": 8
          },
          "showarrow": false,
          "text": "0.01",
          "x": "stroke",
          "y": "gender_Female"
         },
         {
          "font": {
           "size": 8
          },
          "showarrow": false,
          "text": "0.02",
          "x": "AgeGroup",
          "y": "gender_Female"
         },
         {
          "font": {
           "size": 8
          },
          "showarrow": false,
          "text": "1.00",
          "x": "gender_Female",
          "y": "gender_Female"
         },
         {
          "font": {
           "size": 8
          },
          "showarrow": false,
          "text": "1.00",
          "x": "gender_Male",
          "y": "gender_Female"
         },
         {
          "font": {
           "size": 8
          },
          "showarrow": false,
          "text": "0.04",
          "x": "ever_married_No",
          "y": "gender_Female"
         },
         {
          "font": {
           "size": 8
          },
          "showarrow": false,
          "text": "0.04",
          "x": "ever_married_Yes",
          "y": "gender_Female"
         },
         {
          "font": {
           "size": 8
          },
          "showarrow": false,
          "text": "0.02",
          "x": "work_type_Govt_job",
          "y": "gender_Female"
         },
         {
          "font": {
           "size": 8
          },
          "showarrow": false,
          "text": "0.01",
          "x": "work_type_Never_worked",
          "y": "gender_Female"
         },
         {
          "font": {
           "size": 8
          },
          "showarrow": false,
          "text": "0.04",
          "x": "work_type_Private",
          "y": "gender_Female"
         },
         {
          "font": {
           "size": 8
          },
          "showarrow": false,
          "text": "0.02",
          "x": "work_type_Self-employed",
          "y": "gender_Female"
         },
         {
          "font": {
           "size": 8
          },
          "showarrow": false,
          "text": "0.09",
          "x": "work_type_children",
          "y": "gender_Female"
         },
         {
          "font": {
           "size": 8
          },
          "showarrow": false,
          "text": "0.00",
          "x": "Residence_type_Rural",
          "y": "gender_Female"
         },
         {
          "font": {
           "size": 8
          },
          "showarrow": false,
          "text": "0.00",
          "x": "Residence_type_Urban",
          "y": "gender_Female"
         },
         {
          "font": {
           "size": 8
          },
          "showarrow": false,
          "text": "0.02",
          "x": "hypertension",
          "y": "gender_Male"
         },
         {
          "font": {
           "size": 8
          },
          "showarrow": false,
          "text": "0.08",
          "x": "heart_disease",
          "y": "gender_Male"
         },
         {
          "font": {
           "size": 8
          },
          "showarrow": false,
          "text": "0.05",
          "x": "avg_glucose_level",
          "y": "gender_Male"
         },
         {
          "font": {
           "size": 8
          },
          "showarrow": false,
          "text": "0.03",
          "x": "bmi",
          "y": "gender_Male"
         },
         {
          "font": {
           "size": 8
          },
          "showarrow": false,
          "text": "0.06",
          "x": "smoking_status",
          "y": "gender_Male"
         },
         {
          "font": {
           "size": 8
          },
          "showarrow": false,
          "text": "0.01",
          "x": "stroke",
          "y": "gender_Male"
         },
         {
          "font": {
           "size": 8
          },
          "showarrow": false,
          "text": "0.02",
          "x": "AgeGroup",
          "y": "gender_Male"
         },
         {
          "font": {
           "size": 8
          },
          "showarrow": false,
          "text": "1.00",
          "x": "gender_Female",
          "y": "gender_Male"
         },
         {
          "font": {
           "size": 8
          },
          "showarrow": false,
          "text": "1.00",
          "x": "gender_Male",
          "y": "gender_Male"
         },
         {
          "font": {
           "size": 8
          },
          "showarrow": false,
          "text": "0.04",
          "x": "ever_married_No",
          "y": "gender_Male"
         },
         {
          "font": {
           "size": 8
          },
          "showarrow": false,
          "text": "0.04",
          "x": "ever_married_Yes",
          "y": "gender_Male"
         },
         {
          "font": {
           "size": 8
          },
          "showarrow": false,
          "text": "0.02",
          "x": "work_type_Govt_job",
          "y": "gender_Male"
         },
         {
          "font": {
           "size": 8
          },
          "showarrow": false,
          "text": "0.01",
          "x": "work_type_Never_worked",
          "y": "gender_Male"
         },
         {
          "font": {
           "size": 8
          },
          "showarrow": false,
          "text": "0.04",
          "x": "work_type_Private",
          "y": "gender_Male"
         },
         {
          "font": {
           "size": 8
          },
          "showarrow": false,
          "text": "0.02",
          "x": "work_type_Self-employed",
          "y": "gender_Male"
         },
         {
          "font": {
           "size": 8
          },
          "showarrow": false,
          "text": "0.09",
          "x": "work_type_children",
          "y": "gender_Male"
         },
         {
          "font": {
           "size": 8
          },
          "showarrow": false,
          "text": "0.00",
          "x": "Residence_type_Rural",
          "y": "gender_Male"
         },
         {
          "font": {
           "size": 8
          },
          "showarrow": false,
          "text": "0.00",
          "x": "Residence_type_Urban",
          "y": "gender_Male"
         },
         {
          "font": {
           "size": 8
          },
          "showarrow": false,
          "text": "0.16",
          "x": "hypertension",
          "y": "ever_married_No"
         },
         {
          "font": {
           "size": 8
          },
          "showarrow": false,
          "text": "0.11",
          "x": "heart_disease",
          "y": "ever_married_No"
         },
         {
          "font": {
           "size": 8
          },
          "showarrow": false,
          "text": "0.15",
          "x": "avg_glucose_level",
          "y": "ever_married_No"
         },
         {
          "font": {
           "size": 8
          },
          "showarrow": false,
          "text": "0.34",
          "x": "bmi",
          "y": "ever_married_No"
         },
         {
          "font": {
           "size": 8
          },
          "showarrow": false,
          "text": "0.09",
          "x": "smoking_status",
          "y": "ever_married_No"
         },
         {
          "font": {
           "size": 8
          },
          "showarrow": false,
          "text": "0.11",
          "x": "stroke",
          "y": "ever_married_No"
         },
         {
          "font": {
           "size": 8
          },
          "showarrow": false,
          "text": "0.67",
          "x": "AgeGroup",
          "y": "ever_married_No"
         },
         {
          "font": {
           "size": 8
          },
          "showarrow": false,
          "text": "0.04",
          "x": "gender_Female",
          "y": "ever_married_No"
         },
         {
          "font": {
           "size": 8
          },
          "showarrow": false,
          "text": "0.04",
          "x": "gender_Male",
          "y": "ever_married_No"
         },
         {
          "font": {
           "size": 8
          },
          "showarrow": false,
          "text": "1.00",
          "x": "ever_married_No",
          "y": "ever_married_No"
         },
         {
          "font": {
           "size": 8
          },
          "showarrow": false,
          "text": "1.00",
          "x": "ever_married_Yes",
          "y": "ever_married_No"
         },
         {
          "font": {
           "size": 8
          },
          "showarrow": false,
          "text": "0.14",
          "x": "work_type_Govt_job",
          "y": "ever_married_No"
         },
         {
          "font": {
           "size": 8
          },
          "showarrow": false,
          "text": "0.09",
          "x": "work_type_Never_worked",
          "y": "ever_married_No"
         },
         {
          "font": {
           "size": 8
          },
          "showarrow": false,
          "text": "0.16",
          "x": "work_type_Private",
          "y": "ever_married_No"
         },
         {
          "font": {
           "size": 8
          },
          "showarrow": false,
          "text": "0.19",
          "x": "work_type_Self-employed",
          "y": "ever_married_No"
         },
         {
          "font": {
           "size": 8
          },
          "showarrow": false,
          "text": "0.55",
          "x": "work_type_children",
          "y": "ever_married_No"
         },
         {
          "font": {
           "size": 8
          },
          "showarrow": false,
          "text": "0.00",
          "x": "Residence_type_Rural",
          "y": "ever_married_No"
         },
         {
          "font": {
           "size": 8
          },
          "showarrow": false,
          "text": "0.00",
          "x": "Residence_type_Urban",
          "y": "ever_married_No"
         },
         {
          "font": {
           "size": 8
          },
          "showarrow": false,
          "text": "0.16",
          "x": "hypertension",
          "y": "ever_married_Yes"
         },
         {
          "font": {
           "size": 8
          },
          "showarrow": false,
          "text": "0.11",
          "x": "heart_disease",
          "y": "ever_married_Yes"
         },
         {
          "font": {
           "size": 8
          },
          "showarrow": false,
          "text": "0.15",
          "x": "avg_glucose_level",
          "y": "ever_married_Yes"
         },
         {
          "font": {
           "size": 8
          },
          "showarrow": false,
          "text": "0.34",
          "x": "bmi",
          "y": "ever_married_Yes"
         },
         {
          "font": {
           "size": 8
          },
          "showarrow": false,
          "text": "0.09",
          "x": "smoking_status",
          "y": "ever_married_Yes"
         },
         {
          "font": {
           "size": 8
          },
          "showarrow": false,
          "text": "0.11",
          "x": "stroke",
          "y": "ever_married_Yes"
         },
         {
          "font": {
           "size": 8
          },
          "showarrow": false,
          "text": "0.67",
          "x": "AgeGroup",
          "y": "ever_married_Yes"
         },
         {
          "font": {
           "size": 8
          },
          "showarrow": false,
          "text": "0.04",
          "x": "gender_Female",
          "y": "ever_married_Yes"
         },
         {
          "font": {
           "size": 8
          },
          "showarrow": false,
          "text": "0.04",
          "x": "gender_Male",
          "y": "ever_married_Yes"
         },
         {
          "font": {
           "size": 8
          },
          "showarrow": false,
          "text": "1.00",
          "x": "ever_married_No",
          "y": "ever_married_Yes"
         },
         {
          "font": {
           "size": 8
          },
          "showarrow": false,
          "text": "1.00",
          "x": "ever_married_Yes",
          "y": "ever_married_Yes"
         },
         {
          "font": {
           "size": 8
          },
          "showarrow": false,
          "text": "0.14",
          "x": "work_type_Govt_job",
          "y": "ever_married_Yes"
         },
         {
          "font": {
           "size": 8
          },
          "showarrow": false,
          "text": "0.09",
          "x": "work_type_Never_worked",
          "y": "ever_married_Yes"
         },
         {
          "font": {
           "size": 8
          },
          "showarrow": false,
          "text": "0.16",
          "x": "work_type_Private",
          "y": "ever_married_Yes"
         },
         {
          "font": {
           "size": 8
          },
          "showarrow": false,
          "text": "0.19",
          "x": "work_type_Self-employed",
          "y": "ever_married_Yes"
         },
         {
          "font": {
           "size": 8
          },
          "showarrow": false,
          "text": "0.55",
          "x": "work_type_children",
          "y": "ever_married_Yes"
         },
         {
          "font": {
           "size": 8
          },
          "showarrow": false,
          "text": "0.00",
          "x": "Residence_type_Rural",
          "y": "ever_married_Yes"
         },
         {
          "font": {
           "size": 8
          },
          "showarrow": false,
          "text": "0.00",
          "x": "Residence_type_Urban",
          "y": "ever_married_Yes"
         },
         {
          "font": {
           "size": 8
          },
          "showarrow": false,
          "text": "0.02",
          "x": "hypertension",
          "y": "work_type_Govt_job"
         },
         {
          "font": {
           "size": 8
          },
          "showarrow": false,
          "text": "0.01",
          "x": "heart_disease",
          "y": "work_type_Govt_job"
         },
         {
          "font": {
           "size": 8
          },
          "showarrow": false,
          "text": "0.02",
          "x": "avg_glucose_level",
          "y": "work_type_Govt_job"
         },
         {
          "font": {
           "size": 8
          },
          "showarrow": false,
          "text": "0.08",
          "x": "bmi",
          "y": "work_type_Govt_job"
         },
         {
          "font": {
           "size": 8
          },
          "showarrow": false,
          "text": "0.01",
          "x": "smoking_status",
          "y": "work_type_Govt_job"
         },
         {
          "font": {
           "size": 8
          },
          "showarrow": false,
          "text": "0.00",
          "x": "stroke",
          "y": "work_type_Govt_job"
         },
         {
          "font": {
           "size": 8
          },
          "showarrow": false,
          "text": "0.13",
          "x": "AgeGroup",
          "y": "work_type_Govt_job"
         },
         {
          "font": {
           "size": 8
          },
          "showarrow": false,
          "text": "0.02",
          "x": "gender_Female",
          "y": "work_type_Govt_job"
         },
         {
          "font": {
           "size": 8
          },
          "showarrow": false,
          "text": "0.02",
          "x": "gender_Male",
          "y": "work_type_Govt_job"
         },
         {
          "font": {
           "size": 8
          },
          "showarrow": false,
          "text": "0.14",
          "x": "ever_married_No",
          "y": "work_type_Govt_job"
         },
         {
          "font": {
           "size": 8
          },
          "showarrow": false,
          "text": "0.14",
          "x": "ever_married_Yes",
          "y": "work_type_Govt_job"
         },
         {
          "font": {
           "size": 8
          },
          "showarrow": false,
          "text": "1.00",
          "x": "work_type_Govt_job",
          "y": "work_type_Govt_job"
         },
         {
          "font": {
           "size": 8
          },
          "showarrow": false,
          "text": "0.03",
          "x": "work_type_Never_worked",
          "y": "work_type_Govt_job"
         },
         {
          "font": {
           "size": 8
          },
          "showarrow": false,
          "text": "0.44",
          "x": "work_type_Private",
          "y": "work_type_Govt_job"
         },
         {
          "font": {
           "size": 8
          },
          "showarrow": false,
          "text": "0.17",
          "x": "work_type_Self-employed",
          "y": "work_type_Govt_job"
         },
         {
          "font": {
           "size": 8
          },
          "showarrow": false,
          "text": "0.15",
          "x": "work_type_children",
          "y": "work_type_Govt_job"
         },
         {
          "font": {
           "size": 8
          },
          "showarrow": false,
          "text": "0.01",
          "x": "Residence_type_Rural",
          "y": "work_type_Govt_job"
         },
         {
          "font": {
           "size": 8
          },
          "showarrow": false,
          "text": "0.01",
          "x": "Residence_type_Urban",
          "y": "work_type_Govt_job"
         },
         {
          "font": {
           "size": 8
          },
          "showarrow": false,
          "text": "0.02",
          "x": "hypertension",
          "y": "work_type_Never_worked"
         },
         {
          "font": {
           "size": 8
          },
          "showarrow": false,
          "text": "0.02",
          "x": "heart_disease",
          "y": "work_type_Never_worked"
         },
         {
          "font": {
           "size": 8
          },
          "showarrow": false,
          "text": "0.01",
          "x": "avg_glucose_level",
          "y": "work_type_Never_worked"
         },
         {
          "font": {
           "size": 8
          },
          "showarrow": false,
          "text": "0.03",
          "x": "bmi",
          "y": "work_type_Never_worked"
         },
         {
          "font": {
           "size": 8
          },
          "showarrow": false,
          "text": "0.05",
          "x": "smoking_status",
          "y": "work_type_Never_worked"
         },
         {
          "font": {
           "size": 8
          },
          "showarrow": false,
          "text": "0.01",
          "x": "stroke",
          "y": "work_type_Never_worked"
         },
         {
          "font": {
           "size": 8
          },
          "showarrow": false,
          "text": "0.10",
          "x": "AgeGroup",
          "y": "work_type_Never_worked"
         },
         {
          "font": {
           "size": 8
          },
          "showarrow": false,
          "text": "0.01",
          "x": "gender_Female",
          "y": "work_type_Never_worked"
         },
         {
          "font": {
           "size": 8
          },
          "showarrow": false,
          "text": "0.01",
          "x": "gender_Male",
          "y": "work_type_Never_worked"
         },
         {
          "font": {
           "size": 8
          },
          "showarrow": false,
          "text": "0.09",
          "x": "ever_married_No",
          "y": "work_type_Never_worked"
         },
         {
          "font": {
           "size": 8
          },
          "showarrow": false,
          "text": "0.09",
          "x": "ever_married_Yes",
          "y": "work_type_Never_worked"
         },
         {
          "font": {
           "size": 8
          },
          "showarrow": false,
          "text": "0.03",
          "x": "work_type_Govt_job",
          "y": "work_type_Never_worked"
         },
         {
          "font": {
           "size": 8
          },
          "showarrow": false,
          "text": "1.00",
          "x": "work_type_Never_worked",
          "y": "work_type_Never_worked"
         },
         {
          "font": {
           "size": 8
          },
          "showarrow": false,
          "text": "0.08",
          "x": "work_type_Private",
          "y": "work_type_Never_worked"
         },
         {
          "font": {
           "size": 8
          },
          "showarrow": false,
          "text": "0.03",
          "x": "work_type_Self-employed",
          "y": "work_type_Never_worked"
         },
         {
          "font": {
           "size": 8
          },
          "showarrow": false,
          "text": "0.03",
          "x": "work_type_children",
          "y": "work_type_Never_worked"
         },
         {
          "font": {
           "size": 8
          },
          "showarrow": false,
          "text": "0.02",
          "x": "Residence_type_Rural",
          "y": "work_type_Never_worked"
         },
         {
          "font": {
           "size": 8
          },
          "showarrow": false,
          "text": "0.02",
          "x": "Residence_type_Urban",
          "y": "work_type_Never_worked"
         },
         {
          "font": {
           "size": 8
          },
          "showarrow": false,
          "text": "0.00",
          "x": "hypertension",
          "y": "work_type_Private"
         },
         {
          "font": {
           "size": 8
          },
          "showarrow": false,
          "text": "0.00",
          "x": "heart_disease",
          "y": "work_type_Private"
         },
         {
          "font": {
           "size": 8
          },
          "showarrow": false,
          "text": "0.01",
          "x": "avg_glucose_level",
          "y": "work_type_Private"
         },
         {
          "font": {
           "size": 8
          },
          "showarrow": false,
          "text": "0.21",
          "x": "bmi",
          "y": "work_type_Private"
         },
         {
          "font": {
           "size": 8
          },
          "showarrow": false,
          "text": "0.02",
          "x": "smoking_status",
          "y": "work_type_Private"
         },
         {
          "font": {
           "size": 8
          },
          "showarrow": false,
          "text": "0.01",
          "x": "stroke",
          "y": "work_type_Private"
         },
         {
          "font": {
           "size": 8
          },
          "showarrow": false,
          "text": "0.10",
          "x": "AgeGroup",
          "y": "work_type_Private"
         },
         {
          "font": {
           "size": 8
          },
          "showarrow": false,
          "text": "0.04",
          "x": "gender_Female",
          "y": "work_type_Private"
         },
         {
          "font": {
           "size": 8
          },
          "showarrow": false,
          "text": "0.04",
          "x": "gender_Male",
          "y": "work_type_Private"
         },
         {
          "font": {
           "size": 8
          },
          "showarrow": false,
          "text": "0.16",
          "x": "ever_married_No",
          "y": "work_type_Private"
         },
         {
          "font": {
           "size": 8
          },
          "showarrow": false,
          "text": "0.16",
          "x": "ever_married_Yes",
          "y": "work_type_Private"
         },
         {
          "font": {
           "size": 8
          },
          "showarrow": false,
          "text": "0.44",
          "x": "work_type_Govt_job",
          "y": "work_type_Private"
         },
         {
          "font": {
           "size": 8
          },
          "showarrow": false,
          "text": "0.08",
          "x": "work_type_Never_worked",
          "y": "work_type_Private"
         },
         {
          "font": {
           "size": 8
          },
          "showarrow": false,
          "text": "1.00",
          "x": "work_type_Private",
          "y": "work_type_Private"
         },
         {
          "font": {
           "size": 8
          },
          "showarrow": false,
          "text": "0.50",
          "x": "work_type_Self-employed",
          "y": "work_type_Private"
         },
         {
          "font": {
           "size": 8
          },
          "showarrow": false,
          "text": "0.46",
          "x": "work_type_children",
          "y": "work_type_Private"
         },
         {
          "font": {
           "size": 8
          },
          "showarrow": false,
          "text": "0.02",
          "x": "Residence_type_Rural",
          "y": "work_type_Private"
         },
         {
          "font": {
           "size": 8
          },
          "showarrow": false,
          "text": "0.02",
          "x": "Residence_type_Urban",
          "y": "work_type_Private"
         },
         {
          "font": {
           "size": 8
          },
          "showarrow": false,
          "text": "0.11",
          "x": "hypertension",
          "y": "work_type_Self-employed"
         },
         {
          "font": {
           "size": 8
          },
          "showarrow": false,
          "text": "0.08",
          "x": "heart_disease",
          "y": "work_type_Self-employed"
         },
         {
          "font": {
           "size": 8
          },
          "showarrow": false,
          "text": "0.07",
          "x": "avg_glucose_level",
          "y": "work_type_Self-employed"
         },
         {
          "font": {
           "size": 8
          },
          "showarrow": false,
          "text": "0.07",
          "x": "bmi",
          "y": "work_type_Self-employed"
         },
         {
          "font": {
           "size": 8
          },
          "showarrow": false,
          "text": "0.02",
          "x": "smoking_status",
          "y": "work_type_Self-employed"
         },
         {
          "font": {
           "size": 8
          },
          "showarrow": false,
          "text": "0.06",
          "x": "stroke",
          "y": "work_type_Self-employed"
         },
         {
          "font": {
           "size": 8
          },
          "showarrow": false,
          "text": "0.31",
          "x": "AgeGroup",
          "y": "work_type_Self-employed"
         },
         {
          "font": {
           "size": 8
          },
          "showarrow": false,
          "text": "0.02",
          "x": "gender_Female",
          "y": "work_type_Self-employed"
         },
         {
          "font": {
           "size": 8
          },
          "showarrow": false,
          "text": "0.02",
          "x": "gender_Male",
          "y": "work_type_Self-employed"
         },
         {
          "font": {
           "size": 8
          },
          "showarrow": false,
          "text": "0.19",
          "x": "ever_married_No",
          "y": "work_type_Self-employed"
         },
         {
          "font": {
           "size": 8
          },
          "showarrow": false,
          "text": "0.19",
          "x": "ever_married_Yes",
          "y": "work_type_Self-employed"
         },
         {
          "font": {
           "size": 8
          },
          "showarrow": false,
          "text": "0.17",
          "x": "work_type_Govt_job",
          "y": "work_type_Self-employed"
         },
         {
          "font": {
           "size": 8
          },
          "showarrow": false,
          "text": "0.03",
          "x": "work_type_Never_worked",
          "y": "work_type_Self-employed"
         },
         {
          "font": {
           "size": 8
          },
          "showarrow": false,
          "text": "0.50",
          "x": "work_type_Private",
          "y": "work_type_Self-employed"
         },
         {
          "font": {
           "size": 8
          },
          "showarrow": false,
          "text": "1.00",
          "x": "work_type_Self-employed",
          "y": "work_type_Self-employed"
         },
         {
          "font": {
           "size": 8
          },
          "showarrow": false,
          "text": "0.17",
          "x": "work_type_children",
          "y": "work_type_Self-employed"
         },
         {
          "font": {
           "size": 8
          },
          "showarrow": false,
          "text": "0.01",
          "x": "Residence_type_Rural",
          "y": "work_type_Self-employed"
         },
         {
          "font": {
           "size": 8
          },
          "showarrow": false,
          "text": "0.01",
          "x": "Residence_type_Urban",
          "y": "work_type_Self-employed"
         },
         {
          "font": {
           "size": 8
          },
          "showarrow": false,
          "text": "0.13",
          "x": "hypertension",
          "y": "work_type_children"
         },
         {
          "font": {
           "size": 8
          },
          "showarrow": false,
          "text": "0.09",
          "x": "heart_disease",
          "y": "work_type_children"
         },
         {
          "font": {
           "size": 8
          },
          "showarrow": false,
          "text": "0.10",
          "x": "avg_glucose_level",
          "y": "work_type_children"
         },
         {
          "font": {
           "size": 8
          },
          "showarrow": false,
          "text": "0.45",
          "x": "bmi",
          "y": "work_type_children"
         },
         {
          "font": {
           "size": 8
          },
          "showarrow": false,
          "text": "0.06",
          "x": "smoking_status",
          "y": "work_type_children"
         },
         {
          "font": {
           "size": 8
          },
          "showarrow": false,
          "text": "0.08",
          "x": "stroke",
          "y": "work_type_children"
         },
         {
          "font": {
           "size": 8
          },
          "showarrow": false,
          "text": "0.59",
          "x": "AgeGroup",
          "y": "work_type_children"
         },
         {
          "font": {
           "size": 8
          },
          "showarrow": false,
          "text": "0.09",
          "x": "gender_Female",
          "y": "work_type_children"
         },
         {
          "font": {
           "size": 8
          },
          "showarrow": false,
          "text": "0.09",
          "x": "gender_Male",
          "y": "work_type_children"
         },
         {
          "font": {
           "size": 8
          },
          "showarrow": false,
          "text": "0.55",
          "x": "ever_married_No",
          "y": "work_type_children"
         },
         {
          "font": {
           "size": 8
          },
          "showarrow": false,
          "text": "0.55",
          "x": "ever_married_Yes",
          "y": "work_type_children"
         },
         {
          "font": {
           "size": 8
          },
          "showarrow": false,
          "text": "0.15",
          "x": "work_type_Govt_job",
          "y": "work_type_children"
         },
         {
          "font": {
           "size": 8
          },
          "showarrow": false,
          "text": "0.03",
          "x": "work_type_Never_worked",
          "y": "work_type_children"
         },
         {
          "font": {
           "size": 8
          },
          "showarrow": false,
          "text": "0.46",
          "x": "work_type_Private",
          "y": "work_type_children"
         },
         {
          "font": {
           "size": 8
          },
          "showarrow": false,
          "text": "0.17",
          "x": "work_type_Self-employed",
          "y": "work_type_children"
         },
         {
          "font": {
           "size": 8
          },
          "showarrow": false,
          "text": "1.00",
          "x": "work_type_children",
          "y": "work_type_children"
         },
         {
          "font": {
           "size": 8
          },
          "showarrow": false,
          "text": "0.00",
          "x": "Residence_type_Rural",
          "y": "work_type_children"
         },
         {
          "font": {
           "size": 8
          },
          "showarrow": false,
          "text": "0.00",
          "x": "Residence_type_Urban",
          "y": "work_type_children"
         },
         {
          "font": {
           "size": 8
          },
          "showarrow": false,
          "text": "0.00",
          "x": "hypertension",
          "y": "Residence_type_Rural"
         },
         {
          "font": {
           "size": 8
          },
          "showarrow": false,
          "text": "0.00",
          "x": "heart_disease",
          "y": "Residence_type_Rural"
         },
         {
          "font": {
           "size": 8
          },
          "showarrow": false,
          "text": "0.01",
          "x": "avg_glucose_level",
          "y": "Residence_type_Rural"
         },
         {
          "font": {
           "size": 8
          },
          "showarrow": false,
          "text": "0.00",
          "x": "bmi",
          "y": "Residence_type_Rural"
         },
         {
          "font": {
           "size": 8
          },
          "showarrow": false,
          "text": "0.03",
          "x": "smoking_status",
          "y": "Residence_type_Rural"
         },
         {
          "font": {
           "size": 8
          },
          "showarrow": false,
          "text": "0.01",
          "x": "stroke",
          "y": "Residence_type_Rural"
         },
         {
          "font": {
           "size": 8
          },
          "showarrow": false,
          "text": "0.01",
          "x": "AgeGroup",
          "y": "Residence_type_Rural"
         },
         {
          "font": {
           "size": 8
          },
          "showarrow": false,
          "text": "0.00",
          "x": "gender_Female",
          "y": "Residence_type_Rural"
         },
         {
          "font": {
           "size": 8
          },
          "showarrow": false,
          "text": "0.00",
          "x": "gender_Male",
          "y": "Residence_type_Rural"
         },
         {
          "font": {
           "size": 8
          },
          "showarrow": false,
          "text": "0.00",
          "x": "ever_married_No",
          "y": "Residence_type_Rural"
         },
         {
          "font": {
           "size": 8
          },
          "showarrow": false,
          "text": "0.00",
          "x": "ever_married_Yes",
          "y": "Residence_type_Rural"
         },
         {
          "font": {
           "size": 8
          },
          "showarrow": false,
          "text": "0.01",
          "x": "work_type_Govt_job",
          "y": "Residence_type_Rural"
         },
         {
          "font": {
           "size": 8
          },
          "showarrow": false,
          "text": "0.02",
          "x": "work_type_Never_worked",
          "y": "Residence_type_Rural"
         },
         {
          "font": {
           "size": 8
          },
          "showarrow": false,
          "text": "0.02",
          "x": "work_type_Private",
          "y": "Residence_type_Rural"
         },
         {
          "font": {
           "size": 8
          },
          "showarrow": false,
          "text": "0.01",
          "x": "work_type_Self-employed",
          "y": "Residence_type_Rural"
         },
         {
          "font": {
           "size": 8
          },
          "showarrow": false,
          "text": "0.00",
          "x": "work_type_children",
          "y": "Residence_type_Rural"
         },
         {
          "font": {
           "size": 8
          },
          "showarrow": false,
          "text": "1.00",
          "x": "Residence_type_Rural",
          "y": "Residence_type_Rural"
         },
         {
          "font": {
           "size": 8
          },
          "showarrow": false,
          "text": "1.00",
          "x": "Residence_type_Urban",
          "y": "Residence_type_Rural"
         },
         {
          "font": {
           "size": 8
          },
          "showarrow": false,
          "text": "0.00",
          "x": "hypertension",
          "y": "Residence_type_Urban"
         },
         {
          "font": {
           "size": 8
          },
          "showarrow": false,
          "text": "0.00",
          "x": "heart_disease",
          "y": "Residence_type_Urban"
         },
         {
          "font": {
           "size": 8
          },
          "showarrow": false,
          "text": "0.01",
          "x": "avg_glucose_level",
          "y": "Residence_type_Urban"
         },
         {
          "font": {
           "size": 8
          },
          "showarrow": false,
          "text": "0.00",
          "x": "bmi",
          "y": "Residence_type_Urban"
         },
         {
          "font": {
           "size": 8
          },
          "showarrow": false,
          "text": "0.03",
          "x": "smoking_status",
          "y": "Residence_type_Urban"
         },
         {
          "font": {
           "size": 8
          },
          "showarrow": false,
          "text": "0.01",
          "x": "stroke",
          "y": "Residence_type_Urban"
         },
         {
          "font": {
           "size": 8
          },
          "showarrow": false,
          "text": "0.01",
          "x": "AgeGroup",
          "y": "Residence_type_Urban"
         },
         {
          "font": {
           "size": 8
          },
          "showarrow": false,
          "text": "0.00",
          "x": "gender_Female",
          "y": "Residence_type_Urban"
         },
         {
          "font": {
           "size": 8
          },
          "showarrow": false,
          "text": "0.00",
          "x": "gender_Male",
          "y": "Residence_type_Urban"
         },
         {
          "font": {
           "size": 8
          },
          "showarrow": false,
          "text": "0.00",
          "x": "ever_married_No",
          "y": "Residence_type_Urban"
         },
         {
          "font": {
           "size": 8
          },
          "showarrow": false,
          "text": "0.00",
          "x": "ever_married_Yes",
          "y": "Residence_type_Urban"
         },
         {
          "font": {
           "size": 8
          },
          "showarrow": false,
          "text": "0.01",
          "x": "work_type_Govt_job",
          "y": "Residence_type_Urban"
         },
         {
          "font": {
           "size": 8
          },
          "showarrow": false,
          "text": "0.02",
          "x": "work_type_Never_worked",
          "y": "Residence_type_Urban"
         },
         {
          "font": {
           "size": 8
          },
          "showarrow": false,
          "text": "0.02",
          "x": "work_type_Private",
          "y": "Residence_type_Urban"
         },
         {
          "font": {
           "size": 8
          },
          "showarrow": false,
          "text": "0.01",
          "x": "work_type_Self-employed",
          "y": "Residence_type_Urban"
         },
         {
          "font": {
           "size": 8
          },
          "showarrow": false,
          "text": "0.00",
          "x": "work_type_children",
          "y": "Residence_type_Urban"
         },
         {
          "font": {
           "size": 8
          },
          "showarrow": false,
          "text": "1.00",
          "x": "Residence_type_Rural",
          "y": "Residence_type_Urban"
         },
         {
          "font": {
           "size": 8
          },
          "showarrow": false,
          "text": "1.00",
          "x": "Residence_type_Urban",
          "y": "Residence_type_Urban"
         }
        ],
        "coloraxis": {
         "cmax": 1,
         "cmin": -1,
         "colorscale": [
          [
           0,
           "rgb(5,48,97)"
          ],
          [
           0.1,
           "rgb(33,102,172)"
          ],
          [
           0.2,
           "rgb(67,147,195)"
          ],
          [
           0.3,
           "rgb(146,197,222)"
          ],
          [
           0.4,
           "rgb(209,229,240)"
          ],
          [
           0.5,
           "rgb(247,247,247)"
          ],
          [
           0.6,
           "rgb(253,219,199)"
          ],
          [
           0.7,
           "rgb(244,165,130)"
          ],
          [
           0.8,
           "rgb(214,96,77)"
          ],
          [
           0.9,
           "rgb(178,24,43)"
          ],
          [
           1,
           "rgb(103,0,31)"
          ]
         ]
        },
        "height": 700,
        "template": {
         "data": {
          "bar": [
           {
            "error_x": {
             "color": "#2a3f5f"
            },
            "error_y": {
             "color": "#2a3f5f"
            },
            "marker": {
             "line": {
              "color": "#E5ECF6",
              "width": 0.5
             },
             "pattern": {
              "fillmode": "overlay",
              "size": 10,
              "solidity": 0.2
             }
            },
            "type": "bar"
           }
          ],
          "barpolar": [
           {
            "marker": {
             "line": {
              "color": "#E5ECF6",
              "width": 0.5
             },
             "pattern": {
              "fillmode": "overlay",
              "size": 10,
              "solidity": 0.2
             }
            },
            "type": "barpolar"
           }
          ],
          "carpet": [
           {
            "aaxis": {
             "endlinecolor": "#2a3f5f",
             "gridcolor": "white",
             "linecolor": "white",
             "minorgridcolor": "white",
             "startlinecolor": "#2a3f5f"
            },
            "baxis": {
             "endlinecolor": "#2a3f5f",
             "gridcolor": "white",
             "linecolor": "white",
             "minorgridcolor": "white",
             "startlinecolor": "#2a3f5f"
            },
            "type": "carpet"
           }
          ],
          "choropleth": [
           {
            "colorbar": {
             "outlinewidth": 0,
             "ticks": ""
            },
            "type": "choropleth"
           }
          ],
          "contour": [
           {
            "colorbar": {
             "outlinewidth": 0,
             "ticks": ""
            },
            "colorscale": [
             [
              0,
              "#0d0887"
             ],
             [
              0.1111111111111111,
              "#46039f"
             ],
             [
              0.2222222222222222,
              "#7201a8"
             ],
             [
              0.3333333333333333,
              "#9c179e"
             ],
             [
              0.4444444444444444,
              "#bd3786"
             ],
             [
              0.5555555555555556,
              "#d8576b"
             ],
             [
              0.6666666666666666,
              "#ed7953"
             ],
             [
              0.7777777777777778,
              "#fb9f3a"
             ],
             [
              0.8888888888888888,
              "#fdca26"
             ],
             [
              1,
              "#f0f921"
             ]
            ],
            "type": "contour"
           }
          ],
          "contourcarpet": [
           {
            "colorbar": {
             "outlinewidth": 0,
             "ticks": ""
            },
            "type": "contourcarpet"
           }
          ],
          "heatmap": [
           {
            "colorbar": {
             "outlinewidth": 0,
             "ticks": ""
            },
            "colorscale": [
             [
              0,
              "#0d0887"
             ],
             [
              0.1111111111111111,
              "#46039f"
             ],
             [
              0.2222222222222222,
              "#7201a8"
             ],
             [
              0.3333333333333333,
              "#9c179e"
             ],
             [
              0.4444444444444444,
              "#bd3786"
             ],
             [
              0.5555555555555556,
              "#d8576b"
             ],
             [
              0.6666666666666666,
              "#ed7953"
             ],
             [
              0.7777777777777778,
              "#fb9f3a"
             ],
             [
              0.8888888888888888,
              "#fdca26"
             ],
             [
              1,
              "#f0f921"
             ]
            ],
            "type": "heatmap"
           }
          ],
          "heatmapgl": [
           {
            "colorbar": {
             "outlinewidth": 0,
             "ticks": ""
            },
            "colorscale": [
             [
              0,
              "#0d0887"
             ],
             [
              0.1111111111111111,
              "#46039f"
             ],
             [
              0.2222222222222222,
              "#7201a8"
             ],
             [
              0.3333333333333333,
              "#9c179e"
             ],
             [
              0.4444444444444444,
              "#bd3786"
             ],
             [
              0.5555555555555556,
              "#d8576b"
             ],
             [
              0.6666666666666666,
              "#ed7953"
             ],
             [
              0.7777777777777778,
              "#fb9f3a"
             ],
             [
              0.8888888888888888,
              "#fdca26"
             ],
             [
              1,
              "#f0f921"
             ]
            ],
            "type": "heatmapgl"
           }
          ],
          "histogram": [
           {
            "marker": {
             "pattern": {
              "fillmode": "overlay",
              "size": 10,
              "solidity": 0.2
             }
            },
            "type": "histogram"
           }
          ],
          "histogram2d": [
           {
            "colorbar": {
             "outlinewidth": 0,
             "ticks": ""
            },
            "colorscale": [
             [
              0,
              "#0d0887"
             ],
             [
              0.1111111111111111,
              "#46039f"
             ],
             [
              0.2222222222222222,
              "#7201a8"
             ],
             [
              0.3333333333333333,
              "#9c179e"
             ],
             [
              0.4444444444444444,
              "#bd3786"
             ],
             [
              0.5555555555555556,
              "#d8576b"
             ],
             [
              0.6666666666666666,
              "#ed7953"
             ],
             [
              0.7777777777777778,
              "#fb9f3a"
             ],
             [
              0.8888888888888888,
              "#fdca26"
             ],
             [
              1,
              "#f0f921"
             ]
            ],
            "type": "histogram2d"
           }
          ],
          "histogram2dcontour": [
           {
            "colorbar": {
             "outlinewidth": 0,
             "ticks": ""
            },
            "colorscale": [
             [
              0,
              "#0d0887"
             ],
             [
              0.1111111111111111,
              "#46039f"
             ],
             [
              0.2222222222222222,
              "#7201a8"
             ],
             [
              0.3333333333333333,
              "#9c179e"
             ],
             [
              0.4444444444444444,
              "#bd3786"
             ],
             [
              0.5555555555555556,
              "#d8576b"
             ],
             [
              0.6666666666666666,
              "#ed7953"
             ],
             [
              0.7777777777777778,
              "#fb9f3a"
             ],
             [
              0.8888888888888888,
              "#fdca26"
             ],
             [
              1,
              "#f0f921"
             ]
            ],
            "type": "histogram2dcontour"
           }
          ],
          "mesh3d": [
           {
            "colorbar": {
             "outlinewidth": 0,
             "ticks": ""
            },
            "type": "mesh3d"
           }
          ],
          "parcoords": [
           {
            "line": {
             "colorbar": {
              "outlinewidth": 0,
              "ticks": ""
             }
            },
            "type": "parcoords"
           }
          ],
          "pie": [
           {
            "automargin": true,
            "type": "pie"
           }
          ],
          "scatter": [
           {
            "fillpattern": {
             "fillmode": "overlay",
             "size": 10,
             "solidity": 0.2
            },
            "type": "scatter"
           }
          ],
          "scatter3d": [
           {
            "line": {
             "colorbar": {
              "outlinewidth": 0,
              "ticks": ""
             }
            },
            "marker": {
             "colorbar": {
              "outlinewidth": 0,
              "ticks": ""
             }
            },
            "type": "scatter3d"
           }
          ],
          "scattercarpet": [
           {
            "marker": {
             "colorbar": {
              "outlinewidth": 0,
              "ticks": ""
             }
            },
            "type": "scattercarpet"
           }
          ],
          "scattergeo": [
           {
            "marker": {
             "colorbar": {
              "outlinewidth": 0,
              "ticks": ""
             }
            },
            "type": "scattergeo"
           }
          ],
          "scattergl": [
           {
            "marker": {
             "colorbar": {
              "outlinewidth": 0,
              "ticks": ""
             }
            },
            "type": "scattergl"
           }
          ],
          "scattermapbox": [
           {
            "marker": {
             "colorbar": {
              "outlinewidth": 0,
              "ticks": ""
             }
            },
            "type": "scattermapbox"
           }
          ],
          "scatterpolar": [
           {
            "marker": {
             "colorbar": {
              "outlinewidth": 0,
              "ticks": ""
             }
            },
            "type": "scatterpolar"
           }
          ],
          "scatterpolargl": [
           {
            "marker": {
             "colorbar": {
              "outlinewidth": 0,
              "ticks": ""
             }
            },
            "type": "scatterpolargl"
           }
          ],
          "scatterternary": [
           {
            "marker": {
             "colorbar": {
              "outlinewidth": 0,
              "ticks": ""
             }
            },
            "type": "scatterternary"
           }
          ],
          "surface": [
           {
            "colorbar": {
             "outlinewidth": 0,
             "ticks": ""
            },
            "colorscale": [
             [
              0,
              "#0d0887"
             ],
             [
              0.1111111111111111,
              "#46039f"
             ],
             [
              0.2222222222222222,
              "#7201a8"
             ],
             [
              0.3333333333333333,
              "#9c179e"
             ],
             [
              0.4444444444444444,
              "#bd3786"
             ],
             [
              0.5555555555555556,
              "#d8576b"
             ],
             [
              0.6666666666666666,
              "#ed7953"
             ],
             [
              0.7777777777777778,
              "#fb9f3a"
             ],
             [
              0.8888888888888888,
              "#fdca26"
             ],
             [
              1,
              "#f0f921"
             ]
            ],
            "type": "surface"
           }
          ],
          "table": [
           {
            "cells": {
             "fill": {
              "color": "#EBF0F8"
             },
             "line": {
              "color": "white"
             }
            },
            "header": {
             "fill": {
              "color": "#C8D4E3"
             },
             "line": {
              "color": "white"
             }
            },
            "type": "table"
           }
          ]
         },
         "layout": {
          "annotationdefaults": {
           "arrowcolor": "#2a3f5f",
           "arrowhead": 0,
           "arrowwidth": 1
          },
          "autotypenumbers": "strict",
          "coloraxis": {
           "colorbar": {
            "outlinewidth": 0,
            "ticks": ""
           }
          },
          "colorscale": {
           "diverging": [
            [
             0,
             "#8e0152"
            ],
            [
             0.1,
             "#c51b7d"
            ],
            [
             0.2,
             "#de77ae"
            ],
            [
             0.3,
             "#f1b6da"
            ],
            [
             0.4,
             "#fde0ef"
            ],
            [
             0.5,
             "#f7f7f7"
            ],
            [
             0.6,
             "#e6f5d0"
            ],
            [
             0.7,
             "#b8e186"
            ],
            [
             0.8,
             "#7fbc41"
            ],
            [
             0.9,
             "#4d9221"
            ],
            [
             1,
             "#276419"
            ]
           ],
           "sequential": [
            [
             0,
             "#0d0887"
            ],
            [
             0.1111111111111111,
             "#46039f"
            ],
            [
             0.2222222222222222,
             "#7201a8"
            ],
            [
             0.3333333333333333,
             "#9c179e"
            ],
            [
             0.4444444444444444,
             "#bd3786"
            ],
            [
             0.5555555555555556,
             "#d8576b"
            ],
            [
             0.6666666666666666,
             "#ed7953"
            ],
            [
             0.7777777777777778,
             "#fb9f3a"
            ],
            [
             0.8888888888888888,
             "#fdca26"
            ],
            [
             1,
             "#f0f921"
            ]
           ],
           "sequentialminus": [
            [
             0,
             "#0d0887"
            ],
            [
             0.1111111111111111,
             "#46039f"
            ],
            [
             0.2222222222222222,
             "#7201a8"
            ],
            [
             0.3333333333333333,
             "#9c179e"
            ],
            [
             0.4444444444444444,
             "#bd3786"
            ],
            [
             0.5555555555555556,
             "#d8576b"
            ],
            [
             0.6666666666666666,
             "#ed7953"
            ],
            [
             0.7777777777777778,
             "#fb9f3a"
            ],
            [
             0.8888888888888888,
             "#fdca26"
            ],
            [
             1,
             "#f0f921"
            ]
           ]
          },
          "colorway": [
           "#636efa",
           "#EF553B",
           "#00cc96",
           "#ab63fa",
           "#FFA15A",
           "#19d3f3",
           "#FF6692",
           "#B6E880",
           "#FF97FF",
           "#FECB52"
          ],
          "font": {
           "color": "#2a3f5f"
          },
          "geo": {
           "bgcolor": "white",
           "lakecolor": "white",
           "landcolor": "#E5ECF6",
           "showlakes": true,
           "showland": true,
           "subunitcolor": "white"
          },
          "hoverlabel": {
           "align": "left"
          },
          "hovermode": "closest",
          "mapbox": {
           "style": "light"
          },
          "paper_bgcolor": "white",
          "plot_bgcolor": "#E5ECF6",
          "polar": {
           "angularaxis": {
            "gridcolor": "white",
            "linecolor": "white",
            "ticks": ""
           },
           "bgcolor": "#E5ECF6",
           "radialaxis": {
            "gridcolor": "white",
            "linecolor": "white",
            "ticks": ""
           }
          },
          "scene": {
           "xaxis": {
            "backgroundcolor": "#E5ECF6",
            "gridcolor": "white",
            "gridwidth": 2,
            "linecolor": "white",
            "showbackground": true,
            "ticks": "",
            "zerolinecolor": "white"
           },
           "yaxis": {
            "backgroundcolor": "#E5ECF6",
            "gridcolor": "white",
            "gridwidth": 2,
            "linecolor": "white",
            "showbackground": true,
            "ticks": "",
            "zerolinecolor": "white"
           },
           "zaxis": {
            "backgroundcolor": "#E5ECF6",
            "gridcolor": "white",
            "gridwidth": 2,
            "linecolor": "white",
            "showbackground": true,
            "ticks": "",
            "zerolinecolor": "white"
           }
          },
          "shapedefaults": {
           "line": {
            "color": "#2a3f5f"
           }
          },
          "ternary": {
           "aaxis": {
            "gridcolor": "white",
            "linecolor": "white",
            "ticks": ""
           },
           "baxis": {
            "gridcolor": "white",
            "linecolor": "white",
            "ticks": ""
           },
           "bgcolor": "#E5ECF6",
           "caxis": {
            "gridcolor": "white",
            "linecolor": "white",
            "ticks": ""
           }
          },
          "title": {
           "x": 0.05
          },
          "xaxis": {
           "automargin": true,
           "gridcolor": "white",
           "linecolor": "white",
           "ticks": "",
           "title": {
            "standoff": 15
           },
           "zerolinecolor": "white",
           "zerolinewidth": 2
          },
          "yaxis": {
           "automargin": true,
           "gridcolor": "white",
           "linecolor": "white",
           "ticks": "",
           "title": {
            "standoff": 15
           },
           "zerolinecolor": "white",
           "zerolinewidth": 2
          }
         }
        },
        "title": {
         "text": "Correlation Heatmap of Numerical Variables"
        },
        "width": 800,
        "xaxis": {
         "anchor": "y",
         "domain": [
          0,
          1
         ],
         "side": "top",
         "title": {
          "text": ""
         }
        },
        "yaxis": {
         "anchor": "x",
         "autorange": "reversed",
         "domain": [
          0,
          1
         ],
         "title": {
          "text": ""
         }
        }
       }
      }
     },
     "metadata": {},
     "output_type": "display_data"
    }
   ],
   "source": [
    "# Calculate the correlation matrix\n",
    "correlation_matrix = np.abs(data.corr())\n",
    "\n",
    "# Create the heatmap using Plotly Express\n",
    "fig = px.imshow(correlation_matrix,\n",
    "                x=correlation_matrix.columns,\n",
    "                y=correlation_matrix.columns,\n",
    "                color_continuous_scale='RdBu_r',  # Red-Blue diverging color scale\n",
    "                zmin=-1,\n",
    "                zmax=1,\n",
    "                aspect=\"auto\",\n",
    "                title='Correlation Heatmap of Numerical Variables')\n",
    "\n",
    "# Update the layout for better readability\n",
    "fig.update_layout(\n",
    "    xaxis_title=\"\",\n",
    "    yaxis_title=\"\",\n",
    "    xaxis={'side': 'top'},  # Move x-axis labels to the top\n",
    "    width=800,\n",
    "    height=700\n",
    ")\n",
    "\n",
    "# Add correlation values as text annotations\n",
    "for i, row in enumerate(correlation_matrix.values):\n",
    "    for j, value in enumerate(row):\n",
    "        fig.add_annotation(\n",
    "            x=correlation_matrix.columns[j],\n",
    "            y=correlation_matrix.columns[i],\n",
    "            text=f\"{value:.2f}\",\n",
    "            showarrow=False,\n",
    "            font=dict(size=8)\n",
    "        )\n",
    "\n",
    "# Show the plot\n",
    "fig.show()"
   ]
  },
  {
   "cell_type": "code",
   "execution_count": 19,
   "metadata": {},
   "outputs": [
    {
     "data": {
      "text/plain": [
       "Index(['hypertension', 'heart_disease', 'avg_glucose_level', 'bmi',\n",
       "       'smoking_status', 'stroke', 'AgeGroup', 'gender_Female', 'gender_Male',\n",
       "       'ever_married_No', 'ever_married_Yes', 'work_type_Govt_job',\n",
       "       'work_type_Never_worked', 'work_type_Private',\n",
       "       'work_type_Self-employed', 'work_type_children', 'Residence_type_Rural',\n",
       "       'Residence_type_Urban'],\n",
       "      dtype='object')"
      ]
     },
     "execution_count": 19,
     "metadata": {},
     "output_type": "execute_result"
    }
   ],
   "source": [
    "data.columns"
   ]
  },
  {
   "cell_type": "code",
   "execution_count": 20,
   "metadata": {},
   "outputs": [],
   "source": [
    "data = data.drop(['gender_Female', 'gender_Male',\n",
    "       'ever_married_No', 'ever_married_Yes'], axis=1)"
   ]
  },
  {
   "cell_type": "markdown",
   "metadata": {},
   "source": [
    "## Split Data into Train and Test"
   ]
  },
  {
   "cell_type": "code",
   "execution_count": 21,
   "metadata": {},
   "outputs": [],
   "source": [
    "features = data.drop(columns = [\"stroke\"])\n",
    "target = data[\"stroke\"]"
   ]
  },
  {
   "cell_type": "code",
   "execution_count": 22,
   "metadata": {},
   "outputs": [],
   "source": [
    "X_train, X_test, y_train, y_test = train_test_split(features, target, test_size = 0.20, random_state=0)"
   ]
  },
  {
   "cell_type": "markdown",
   "metadata": {},
   "source": [
    "### Standardize The Data"
   ]
  },
  {
   "cell_type": "code",
   "execution_count": 23,
   "metadata": {},
   "outputs": [],
   "source": [
    "# Standardize the features\n",
    "X_train_scaled, X_test_scaled = Standardizer(X_train, X_test)"
   ]
  },
  {
   "cell_type": "markdown",
   "metadata": {},
   "source": [
    "### Normalize The Data"
   ]
  },
  {
   "cell_type": "code",
   "execution_count": 24,
   "metadata": {},
   "outputs": [],
   "source": [
    "# Normalize the features\n",
    "X_train_norm, X_test_norm = Normalizer(X_train, X_test)"
   ]
  },
  {
   "cell_type": "markdown",
   "metadata": {},
   "source": [
    "Based on the result of Heatmap we can drop these two not important columns : "
   ]
  },
  {
   "cell_type": "code",
   "execution_count": 25,
   "metadata": {},
   "outputs": [],
   "source": [
    "X_train_norm = pd.DataFrame(X_train_norm, columns = X_train.columns)\n",
    "# X_train_reduced = X_train_norm.drop(columns = [\"gender\",\"Residence_type\"])\n",
    "\n",
    "X_test_norm = pd.DataFrame(X_test_norm, columns = X_test.columns)\n",
    "# X_test_reduced = X_test_norm.drop(columns = [\"gender\",\"Residence_type\"])"
   ]
  },
  {
   "cell_type": "code",
   "execution_count": 26,
   "metadata": {},
   "outputs": [],
   "source": [
    "X_train_scaled = pd.DataFrame(X_train_scaled, columns = X_train.columns)\n",
    "\n",
    "X_test_scaled = pd.DataFrame(X_test_scaled, columns = X_test.columns)"
   ]
  },
  {
   "cell_type": "markdown",
   "metadata": {},
   "source": [
    "## Modeling"
   ]
  },
  {
   "cell_type": "markdown",
   "metadata": {},
   "source": [
    "#### Define and Evaluate Models"
   ]
  },
  {
   "cell_type": "markdown",
   "metadata": {},
   "source": []
  },
  {
   "cell_type": "code",
   "execution_count": 27,
   "metadata": {},
   "outputs": [],
   "source": [
    "models = {\n",
    "    'Random Forest': (RandomForestClassifier(random_state=42), {\n",
    "        'n_estimators': [50, 100],\n",
    "        'max_depth': [None, 10, 20]\n",
    "    }),\n",
    "    'KNN': (KNeighborsClassifier(), {\n",
    "        'n_neighbors': [3, 5, 7]\n",
    "    }),\n",
    "    'Logistic Regression': (LogisticRegression(max_iter=1000, random_state=42), {\n",
    "        'C': [0.1, 1, 10]\n",
    "    }),\n",
    "    'SVM': (SVC(probability=True, random_state=42), {\n",
    "        'C': [0.1, 1, 10],\n",
    "        'kernel': ['linear', 'rbf']\n",
    "    }),\n",
    "    'Decision Tree': (DecisionTreeClassifier(random_state=42), {\n",
    "        'max_depth': [None, 10, 20]\n",
    "    })\n",
    "}\n"
   ]
  },
  {
   "cell_type": "code",
   "execution_count": 36,
   "metadata": {},
   "outputs": [],
   "source": [
    "ensemble_models = {\n",
    "    'Bagging with Random Forest': (BaggingClassifier(estimator=RandomForestClassifier(random_state=42), random_state=42), {\n",
    "        'n_estimators': [10, 20],\n",
    "        'base_estimator__n_estimators': [50, 100],\n",
    "        'base_estimator__max_depth': [None, 10, 20],\n",
    "        'max_samples': [0.8, 1.0],\n",
    "        'max_features': [0.8, 1.0]\n",
    "    }),\n",
    "    'Bagging with KNN': (BaggingClassifier(estimator=KNeighborsClassifier(), random_state=42), {\n",
    "        'n_estimators': [10, 20],\n",
    "        'base_estimator__n_neighbors': [3, 5, 7],\n",
    "        'max_samples': [0.8, 1.0],\n",
    "        'max_features': [0.8, 1.0]\n",
    "    }),\n",
    "    'Bagging with Logistic Regression': (BaggingClassifier(estimator=LogisticRegression(max_iter=1000, random_state=42), random_state=42), {\n",
    "        'n_estimators': [10, 20],\n",
    "        'base_estimator__C': [0.1, 1, 10],\n",
    "        'max_samples': [0.8, 1.0],\n",
    "        'max_features': [0.8, 1.0]\n",
    "    }),\n",
    "    'Bagging with SVM': (BaggingClassifier(estimator=SVC(probability=True, random_state=42), random_state=42), {\n",
    "        'n_estimators': [10, 20],\n",
    "        'base_estimator__C': [0.1, 1, 10],\n",
    "        'base_estimator__kernel': ['linear', 'rbf'],\n",
    "        'max_samples': [0.8, 1.0],\n",
    "        'max_features': [0.8, 1.0]\n",
    "    }),\n",
    "    'Bagging with Decision Tree': (BaggingClassifier(estimator=DecisionTreeClassifier(random_state=42), random_state=42), {\n",
    "        'n_estimators': [10, 20],\n",
    "        'base_estimator__max_depth': [None, 10, 20],\n",
    "        'max_samples': [0.8, 1.0],\n",
    "        'max_features': [0.8, 1.0]\n",
    "    }),\n",
    "    'AdaBoost with Decision Tree Stump': (AdaBoostClassifier(estimator=DecisionTreeClassifier(max_depth=1, random_state=42), random_state=42), {\n",
    "        'n_estimators': [50, 100],\n",
    "        'learning_rate': [0.01, 0.1, 1]\n",
    "    }),\n",
    "    'AdaBoost with Logistic Regression': (AdaBoostClassifier(estimator=LogisticRegression(max_iter=1000, random_state=42), random_state=42), {\n",
    "        'n_estimators': [50, 100],\n",
    "        'learning_rate': [0.01, 0.1, 1]\n",
    "    }),\n",
    "    'AdaBoost with KNN': (AdaBoostClassifier(estimator=KNeighborsClassifier(), random_state=42), {\n",
    "        'n_estimators': [50, 100],\n",
    "        'learning_rate': [0.01, 0.1, 1]\n",
    "    }),\n",
    "    'Gradient Boosting with Decision Tree': (GradientBoostingClassifier(init=DecisionTreeClassifier(random_state=42), random_state=42), {\n",
    "        'n_estimators': [50, 100],\n",
    "        'learning_rate': [0.01, 0.1, 1],\n",
    "        'max_depth': [3, 5, 7]\n",
    "    })\n",
    "}\n"
   ]
  },
  {
   "cell_type": "markdown",
   "metadata": {},
   "source": [
    "#### Function for preprocessing and evalution"
   ]
  },
  {
   "cell_type": "code",
   "execution_count": 37,
   "metadata": {},
   "outputs": [],
   "source": [
    "import numpy as np\n",
    "from sklearn.model_selection import RandomizedSearchCV\n",
    "from sklearn.metrics import accuracy_score, precision_score, recall_score, f1_score\n",
    "\n",
    "def preprocess_and_evaluate(model, model_name, param_distributions, X_train, y_train, X_test, y_test, scaler, n_iter=100):\n",
    "    # Apply scaling if needed\n",
    "    if scaler:\n",
    "        X_train_scaled = scaler.fit_transform(X_train)\n",
    "        X_test_scaled = scaler.transform(X_test)\n",
    "    else:\n",
    "        X_train_scaled, X_test_scaled = X_train, X_test\n",
    "\n",
    "    # Set up RandomizedSearchCV\n",
    "    random_search = RandomizedSearchCV(model, param_distributions, n_iter=n_iter, cv=5, n_jobs=-1, scoring='accuracy', random_state=42)\n",
    "    random_search.fit(X_train_scaled, y_train)\n",
    "\n",
    "    # Get the best model\n",
    "    best_model = random_search.best_estimator_\n",
    "\n",
    "    # Predict and evaluate\n",
    "    y_pred = best_model.predict(X_test_scaled)\n",
    "    result = {\n",
    "        'Model': model_name,\n",
    "        'Scaler': scaler.__class__.__name__ if scaler else 'None',\n",
    "        'Best Params': random_search.best_params_,\n",
    "        'Accuracy': accuracy_score(y_test, y_pred),\n",
    "        'Precision': precision_score(y_test, y_pred, average='weighted'),\n",
    "        'Recall': recall_score(y_test, y_pred, average='weighted'),\n",
    "        'F1 Score': f1_score(y_test, y_pred, average='weighted')\n",
    "    }\n",
    "    \n",
    "    return result\n"
   ]
  },
  {
   "cell_type": "markdown",
   "metadata": {},
   "source": [
    "#### Define Model Evaluation Function for models without ensembles"
   ]
  },
  {
   "cell_type": "code",
   "execution_count": 55,
   "metadata": {},
   "outputs": [
    {
     "name": "stderr",
     "output_type": "stream",
     "text": [
      "/Users/Erfan/Library/Python/3.9/lib/python/site-packages/sklearn/model_selection/_search.py:320: UserWarning:\n",
      "\n",
      "The total space of parameters 6 is smaller than n_iter=100. Running 6 iterations. For exhaustive searches, use GridSearchCV.\n",
      "\n",
      "/Users/Erfan/Library/Python/3.9/lib/python/site-packages/sklearn/metrics/_classification.py:1531: UndefinedMetricWarning:\n",
      "\n",
      "Precision is ill-defined and being set to 0.0 in labels with no predicted samples. Use `zero_division` parameter to control this behavior.\n",
      "\n",
      "/Users/Erfan/Library/Python/3.9/lib/python/site-packages/sklearn/model_selection/_search.py:320: UserWarning:\n",
      "\n",
      "The total space of parameters 6 is smaller than n_iter=100. Running 6 iterations. For exhaustive searches, use GridSearchCV.\n",
      "\n",
      "/Users/Erfan/Library/Python/3.9/lib/python/site-packages/sklearn/metrics/_classification.py:1531: UndefinedMetricWarning:\n",
      "\n",
      "Precision is ill-defined and being set to 0.0 in labels with no predicted samples. Use `zero_division` parameter to control this behavior.\n",
      "\n",
      "/Users/Erfan/Library/Python/3.9/lib/python/site-packages/sklearn/model_selection/_search.py:320: UserWarning:\n",
      "\n",
      "The total space of parameters 6 is smaller than n_iter=100. Running 6 iterations. For exhaustive searches, use GridSearchCV.\n",
      "\n",
      "/Users/Erfan/Library/Python/3.9/lib/python/site-packages/sklearn/metrics/_classification.py:1531: UndefinedMetricWarning:\n",
      "\n",
      "Precision is ill-defined and being set to 0.0 in labels with no predicted samples. Use `zero_division` parameter to control this behavior.\n",
      "\n",
      "/Users/Erfan/Library/Python/3.9/lib/python/site-packages/sklearn/model_selection/_search.py:320: UserWarning:\n",
      "\n",
      "The total space of parameters 3 is smaller than n_iter=100. Running 3 iterations. For exhaustive searches, use GridSearchCV.\n",
      "\n",
      "/Users/Erfan/Library/Python/3.9/lib/python/site-packages/sklearn/metrics/_classification.py:1531: UndefinedMetricWarning:\n",
      "\n",
      "Precision is ill-defined and being set to 0.0 in labels with no predicted samples. Use `zero_division` parameter to control this behavior.\n",
      "\n",
      "/Users/Erfan/Library/Python/3.9/lib/python/site-packages/sklearn/model_selection/_search.py:320: UserWarning:\n",
      "\n",
      "The total space of parameters 3 is smaller than n_iter=100. Running 3 iterations. For exhaustive searches, use GridSearchCV.\n",
      "\n",
      "/Users/Erfan/Library/Python/3.9/lib/python/site-packages/sklearn/model_selection/_search.py:320: UserWarning:\n",
      "\n",
      "The total space of parameters 3 is smaller than n_iter=100. Running 3 iterations. For exhaustive searches, use GridSearchCV.\n",
      "\n",
      "/Users/Erfan/Library/Python/3.9/lib/python/site-packages/sklearn/model_selection/_search.py:320: UserWarning:\n",
      "\n",
      "The total space of parameters 3 is smaller than n_iter=100. Running 3 iterations. For exhaustive searches, use GridSearchCV.\n",
      "\n",
      "/Users/Erfan/Library/Python/3.9/lib/python/site-packages/sklearn/metrics/_classification.py:1531: UndefinedMetricWarning:\n",
      "\n",
      "Precision is ill-defined and being set to 0.0 in labels with no predicted samples. Use `zero_division` parameter to control this behavior.\n",
      "\n",
      "/Users/Erfan/Library/Python/3.9/lib/python/site-packages/sklearn/model_selection/_search.py:320: UserWarning:\n",
      "\n",
      "The total space of parameters 3 is smaller than n_iter=100. Running 3 iterations. For exhaustive searches, use GridSearchCV.\n",
      "\n",
      "/Users/Erfan/Library/Python/3.9/lib/python/site-packages/sklearn/metrics/_classification.py:1531: UndefinedMetricWarning:\n",
      "\n",
      "Precision is ill-defined and being set to 0.0 in labels with no predicted samples. Use `zero_division` parameter to control this behavior.\n",
      "\n",
      "/Users/Erfan/Library/Python/3.9/lib/python/site-packages/sklearn/model_selection/_search.py:320: UserWarning:\n",
      "\n",
      "The total space of parameters 3 is smaller than n_iter=100. Running 3 iterations. For exhaustive searches, use GridSearchCV.\n",
      "\n",
      "/Users/Erfan/Library/Python/3.9/lib/python/site-packages/sklearn/metrics/_classification.py:1531: UndefinedMetricWarning:\n",
      "\n",
      "Precision is ill-defined and being set to 0.0 in labels with no predicted samples. Use `zero_division` parameter to control this behavior.\n",
      "\n",
      "/Users/Erfan/Library/Python/3.9/lib/python/site-packages/sklearn/model_selection/_search.py:320: UserWarning:\n",
      "\n",
      "The total space of parameters 6 is smaller than n_iter=100. Running 6 iterations. For exhaustive searches, use GridSearchCV.\n",
      "\n",
      "/Users/Erfan/Library/Python/3.9/lib/python/site-packages/sklearn/metrics/_classification.py:1531: UndefinedMetricWarning:\n",
      "\n",
      "Precision is ill-defined and being set to 0.0 in labels with no predicted samples. Use `zero_division` parameter to control this behavior.\n",
      "\n",
      "/Users/Erfan/Library/Python/3.9/lib/python/site-packages/sklearn/model_selection/_search.py:320: UserWarning:\n",
      "\n",
      "The total space of parameters 6 is smaller than n_iter=100. Running 6 iterations. For exhaustive searches, use GridSearchCV.\n",
      "\n"
     ]
    }
   ],
   "source": [
    "def evaluate_all_models(models, X_train, y_train, X_test, y_test):\n",
    "    results = []\n",
    "    scalers = [None, StandardScaler(), MinMaxScaler()]\n",
    "    \n",
    "    for model_name, (model, param_grid) in models.items():\n",
    "        for scaler in scalers:\n",
    "            result = preprocess_and_evaluate(model, model_name, param_grid, X_train, y_train, X_test, y_test, scaler)\n",
    "            results.append(result)\n",
    "    \n",
    "    results_df = pd.DataFrame(results)\n",
    "    results_df.to_csv('individual_model_results.csv', index=False)\n",
    "    print(results_df)\n",
    "    return results_df\n",
    "\n",
    "# Evaluate individual models\n",
    "individual_results_df = evaluate_all_models(models, X_train, y_train, X_test, y_test)\n"
   ]
  },
  {
   "cell_type": "markdown",
   "metadata": {},
   "source": [
    "#### Define Model Evaluation Function for models with ensembles"
   ]
  },
  {
   "cell_type": "code",
   "execution_count": 31,
   "metadata": {},
   "outputs": [
    {
     "name": "stderr",
     "output_type": "stream",
     "text": [
      "c:\\Users\\reetu\\anaconda3\\Lib\\site-packages\\sklearn\\model_selection\\_search.py:305: UserWarning:\n",
      "\n",
      "The total space of parameters 48 is smaller than n_iter=100. Running 48 iterations. For exhaustive searches, use GridSearchCV.\n",
      "\n",
      "c:\\Users\\reetu\\anaconda3\\Lib\\site-packages\\sklearn\\ensemble\\_base.py:166: FutureWarning:\n",
      "\n",
      "`base_estimator` was renamed to `estimator` in version 1.2 and will be removed in 1.4.\n",
      "\n",
      "c:\\Users\\reetu\\anaconda3\\Lib\\site-packages\\sklearn\\metrics\\_classification.py:1344: UndefinedMetricWarning:\n",
      "\n",
      "Precision is ill-defined and being set to 0.0 in labels with no predicted samples. Use `zero_division` parameter to control this behavior.\n",
      "\n",
      "c:\\Users\\reetu\\anaconda3\\Lib\\site-packages\\sklearn\\model_selection\\_search.py:305: UserWarning:\n",
      "\n",
      "The total space of parameters 48 is smaller than n_iter=100. Running 48 iterations. For exhaustive searches, use GridSearchCV.\n",
      "\n",
      "c:\\Users\\reetu\\anaconda3\\Lib\\site-packages\\sklearn\\ensemble\\_base.py:166: FutureWarning:\n",
      "\n",
      "`base_estimator` was renamed to `estimator` in version 1.2 and will be removed in 1.4.\n",
      "\n",
      "c:\\Users\\reetu\\anaconda3\\Lib\\site-packages\\sklearn\\metrics\\_classification.py:1344: UndefinedMetricWarning:\n",
      "\n",
      "Precision is ill-defined and being set to 0.0 in labels with no predicted samples. Use `zero_division` parameter to control this behavior.\n",
      "\n",
      "c:\\Users\\reetu\\anaconda3\\Lib\\site-packages\\sklearn\\model_selection\\_search.py:305: UserWarning:\n",
      "\n",
      "The total space of parameters 48 is smaller than n_iter=100. Running 48 iterations. For exhaustive searches, use GridSearchCV.\n",
      "\n",
      "c:\\Users\\reetu\\anaconda3\\Lib\\site-packages\\sklearn\\ensemble\\_base.py:166: FutureWarning:\n",
      "\n",
      "`base_estimator` was renamed to `estimator` in version 1.2 and will be removed in 1.4.\n",
      "\n",
      "c:\\Users\\reetu\\anaconda3\\Lib\\site-packages\\sklearn\\metrics\\_classification.py:1344: UndefinedMetricWarning:\n",
      "\n",
      "Precision is ill-defined and being set to 0.0 in labels with no predicted samples. Use `zero_division` parameter to control this behavior.\n",
      "\n",
      "c:\\Users\\reetu\\anaconda3\\Lib\\site-packages\\sklearn\\model_selection\\_search.py:305: UserWarning:\n",
      "\n",
      "The total space of parameters 24 is smaller than n_iter=100. Running 24 iterations. For exhaustive searches, use GridSearchCV.\n",
      "\n",
      "c:\\Users\\reetu\\anaconda3\\Lib\\site-packages\\sklearn\\ensemble\\_base.py:166: FutureWarning:\n",
      "\n",
      "`base_estimator` was renamed to `estimator` in version 1.2 and will be removed in 1.4.\n",
      "\n",
      "c:\\Users\\reetu\\anaconda3\\Lib\\site-packages\\sklearn\\metrics\\_classification.py:1344: UndefinedMetricWarning:\n",
      "\n",
      "Precision is ill-defined and being set to 0.0 in labels with no predicted samples. Use `zero_division` parameter to control this behavior.\n",
      "\n",
      "c:\\Users\\reetu\\anaconda3\\Lib\\site-packages\\sklearn\\model_selection\\_search.py:305: UserWarning:\n",
      "\n",
      "The total space of parameters 24 is smaller than n_iter=100. Running 24 iterations. For exhaustive searches, use GridSearchCV.\n",
      "\n",
      "c:\\Users\\reetu\\anaconda3\\Lib\\site-packages\\sklearn\\ensemble\\_base.py:166: FutureWarning:\n",
      "\n",
      "`base_estimator` was renamed to `estimator` in version 1.2 and will be removed in 1.4.\n",
      "\n",
      "c:\\Users\\reetu\\anaconda3\\Lib\\site-packages\\sklearn\\metrics\\_classification.py:1344: UndefinedMetricWarning:\n",
      "\n",
      "Precision is ill-defined and being set to 0.0 in labels with no predicted samples. Use `zero_division` parameter to control this behavior.\n",
      "\n",
      "c:\\Users\\reetu\\anaconda3\\Lib\\site-packages\\sklearn\\model_selection\\_search.py:305: UserWarning:\n",
      "\n",
      "The total space of parameters 24 is smaller than n_iter=100. Running 24 iterations. For exhaustive searches, use GridSearchCV.\n",
      "\n",
      "c:\\Users\\reetu\\anaconda3\\Lib\\site-packages\\sklearn\\ensemble\\_base.py:166: FutureWarning:\n",
      "\n",
      "`base_estimator` was renamed to `estimator` in version 1.2 and will be removed in 1.4.\n",
      "\n",
      "c:\\Users\\reetu\\anaconda3\\Lib\\site-packages\\sklearn\\metrics\\_classification.py:1344: UndefinedMetricWarning:\n",
      "\n",
      "Precision is ill-defined and being set to 0.0 in labels with no predicted samples. Use `zero_division` parameter to control this behavior.\n",
      "\n",
      "c:\\Users\\reetu\\anaconda3\\Lib\\site-packages\\sklearn\\model_selection\\_search.py:305: UserWarning:\n",
      "\n",
      "The total space of parameters 24 is smaller than n_iter=100. Running 24 iterations. For exhaustive searches, use GridSearchCV.\n",
      "\n",
      "c:\\Users\\reetu\\anaconda3\\Lib\\site-packages\\sklearn\\ensemble\\_base.py:166: FutureWarning:\n",
      "\n",
      "`base_estimator` was renamed to `estimator` in version 1.2 and will be removed in 1.4.\n",
      "\n",
      "c:\\Users\\reetu\\anaconda3\\Lib\\site-packages\\sklearn\\metrics\\_classification.py:1344: UndefinedMetricWarning:\n",
      "\n",
      "Precision is ill-defined and being set to 0.0 in labels with no predicted samples. Use `zero_division` parameter to control this behavior.\n",
      "\n",
      "c:\\Users\\reetu\\anaconda3\\Lib\\site-packages\\sklearn\\model_selection\\_search.py:305: UserWarning:\n",
      "\n",
      "The total space of parameters 24 is smaller than n_iter=100. Running 24 iterations. For exhaustive searches, use GridSearchCV.\n",
      "\n",
      "c:\\Users\\reetu\\anaconda3\\Lib\\site-packages\\sklearn\\ensemble\\_base.py:166: FutureWarning:\n",
      "\n",
      "`base_estimator` was renamed to `estimator` in version 1.2 and will be removed in 1.4.\n",
      "\n",
      "c:\\Users\\reetu\\anaconda3\\Lib\\site-packages\\sklearn\\metrics\\_classification.py:1344: UndefinedMetricWarning:\n",
      "\n",
      "Precision is ill-defined and being set to 0.0 in labels with no predicted samples. Use `zero_division` parameter to control this behavior.\n",
      "\n",
      "c:\\Users\\reetu\\anaconda3\\Lib\\site-packages\\sklearn\\model_selection\\_search.py:305: UserWarning:\n",
      "\n",
      "The total space of parameters 24 is smaller than n_iter=100. Running 24 iterations. For exhaustive searches, use GridSearchCV.\n",
      "\n",
      "c:\\Users\\reetu\\anaconda3\\Lib\\site-packages\\sklearn\\ensemble\\_base.py:166: FutureWarning:\n",
      "\n",
      "`base_estimator` was renamed to `estimator` in version 1.2 and will be removed in 1.4.\n",
      "\n",
      "c:\\Users\\reetu\\anaconda3\\Lib\\site-packages\\sklearn\\metrics\\_classification.py:1344: UndefinedMetricWarning:\n",
      "\n",
      "Precision is ill-defined and being set to 0.0 in labels with no predicted samples. Use `zero_division` parameter to control this behavior.\n",
      "\n",
      "c:\\Users\\reetu\\anaconda3\\Lib\\site-packages\\sklearn\\model_selection\\_search.py:305: UserWarning:\n",
      "\n",
      "The total space of parameters 48 is smaller than n_iter=100. Running 48 iterations. For exhaustive searches, use GridSearchCV.\n",
      "\n"
     ]
    }
   ],
   "source": [
    "def evaluate_all_ensemble_models(ensemble_models, X_train, y_train, X_test, y_test):\n",
    "    results = []\n",
    "    scalers = [None, StandardScaler(), MinMaxScaler()]\n",
    "    \n",
    "    for model_name, (model, param_grid) in ensemble_models.items():\n",
    "        for scaler in scalers:\n",
    "            result = preprocess_and_evaluate(model, model_name, param_grid, X_train, y_train, X_test, y_test, scaler)\n",
    "            results.append(result)\n",
    "    \n",
    "    results_df = pd.DataFrame(results)\n",
    "    results_df.to_csv('ensemble_model_results.csv', index=False)\n",
    "    print(results_df)\n",
    "    return results_df\n",
    "\n",
    "# Evaluate ensemble models\n",
    "ensemble_results_df = evaluate_all_ensemble_models(ensemble_models, X_train, y_train, X_test, y_test)\n"
   ]
  },
  {
   "cell_type": "markdown",
   "metadata": {},
   "source": [
    "#### Save results of models as csv and dataframe and Choose the Best Model"
   ]
  },
  {
   "cell_type": "code",
   "execution_count": null,
   "metadata": {},
   "outputs": [],
   "source": [
    "# Load individual and ensemble results\n",
    "individual_results_df = pd.read_csv('individual_model_results.csv')\n",
    "ensemble_results_df = pd.read_csv('ensemble_model_results.csv')\n",
    "\n",
    "# Combine results\n",
    "combined_results_df = pd.concat([individual_results_df, ensemble_results_df], ignore_index=True)\n",
    "\n",
    "# Save combined results\n",
    "combined_results_df.to_csv('combined_model_results.csv', index=False)\n",
    "print(combined_results_df)\n",
    "\n",
    "# Choose the best model based on a chosen metric, e.g., highest F1 Score\n",
    "best_model_result = combined_results_df.loc[combined_results_df['F1 Score'].idxmax()]\n",
    "print(\"Best Model:\")\n",
    "print(best_model_result)\n"
   ]
  },
  {
   "cell_type": "markdown",
   "metadata": {},
   "source": [
    "#### Make a sample dataframe to test your model"
   ]
  },
  {
   "cell_type": "code",
   "execution_count": null,
   "metadata": {},
   "outputs": [],
   "source": [
    "sample_data = {\n",
    "    'id': [10001, 10002, 10003, 10004, 10005, 10006, 10007, 10008, 10009, 10010],\n",
    "    'gender': ['Male', 'Female', 'Male', 'Female', 'Male', 'Female', 'Male', 'Female', 'Male', 'Female'],\n",
    "    'age': [45, 34, 56, 62, 50, 41, 37, 55, 70, 65],\n",
    "    'hypertension': [0, 0, 1, 0, 1, 0, 0, 1, 0, 1],\n",
    "    'heart_disease': [0, 0, 1, 0, 0, 1, 0, 1, 0, 0],\n",
    "    'ever_married': ['Yes', 'No', 'Yes', 'Yes', 'Yes', 'Yes', 'No', 'Yes', 'Yes', 'Yes'],\n",
    "    'work_type': ['Private', 'Self-employed', 'Govt_job', 'Private', 'Private', 'Self-employed', 'Private', 'Govt_job', 'Private', 'Private'],\n",
    "    'Residence_type': ['Urban', 'Rural', 'Urban', 'Urban', 'Rural', 'Urban', 'Urban', 'Rural', 'Urban', 'Rural'],\n",
    "    'avg_glucose_level': [140.55, 95.30, 180.50, 210.30, 125.45, 150.70, 110.20, 95.00, 200.80, 180.00],\n",
    "    'bmi': [30, 22, 28, 27, 32, 29, 31, 23, 30, 26],\n",
    "    'smoking_status': ['never smoked', 'smokes', 'formerly smoked', 'never smoked', 'smokes', 'never smoked', 'formerly smoked', 'never smoked', 'smokes', 'formerly smoked'],\n",
    "    'stroke': [0, 0, 1, 0, 1, 1, 0, 1, 0, 1]\n",
    "}\n",
    "\n",
    "# Create DataFrame\n",
    "df_sample = pd.DataFrame(sample_data)\n",
    "\n",
    "# Save to CSV\n",
    "df_sample.to_csv('sample_data.csv', index=False)"
   ]
  },
  {
   "cell_type": "markdown",
   "metadata": {},
   "source": [
    "# Visualization Performance of different Models"
   ]
  },
  {
   "cell_type": "code",
   "execution_count": 52,
   "metadata": {},
   "outputs": [
    {
     "data": {
      "application/vnd.plotly.v1+json": {
       "config": {
        "plotlyServerURL": "https://plot.ly"
       },
       "data": [
        {
         "alignmentgroup": "True",
         "hovertemplate": "Model=Random Forest<br>Scaler=None<br>Metric=%{x}<br>Value=%{y}<extra></extra>",
         "legendgroup": "Random Forest",
         "marker": {
          "color": "#636efa",
          "pattern": {
           "shape": ""
          }
         },
         "name": "Random Forest",
         "offsetgroup": "Random Forest",
         "orientation": "v",
         "showlegend": true,
         "textposition": "auto",
         "type": "bar",
         "x": [
          "Accuracy",
          "Precision",
          "Recall",
          "F1 Score"
         ],
         "xaxis": "x",
         "y": [
          0.9562118126272912,
          0.91434103060797,
          0.9562118126272912,
          0.934807800163484
         ],
         "yaxis": "y"
        },
        {
         "alignmentgroup": "True",
         "hovertemplate": "Model=Random Forest<br>Scaler=StandardScaler<br>Metric=%{x}<br>Value=%{y}<extra></extra>",
         "legendgroup": "Random Forest",
         "marker": {
          "color": "#636efa",
          "pattern": {
           "shape": ""
          }
         },
         "name": "Random Forest",
         "offsetgroup": "Random Forest",
         "orientation": "v",
         "showlegend": false,
         "textposition": "auto",
         "type": "bar",
         "x": [
          "Accuracy",
          "Precision",
          "Recall",
          "F1 Score"
         ],
         "xaxis": "x2",
         "y": [
          0.9562118126272912,
          0.91434103060797,
          0.9562118126272912,
          0.934807800163484
         ],
         "yaxis": "y2"
        },
        {
         "alignmentgroup": "True",
         "hovertemplate": "Model=Random Forest<br>Scaler=MinMaxScaler<br>Metric=%{x}<br>Value=%{y}<extra></extra>",
         "legendgroup": "Random Forest",
         "marker": {
          "color": "#636efa",
          "pattern": {
           "shape": ""
          }
         },
         "name": "Random Forest",
         "offsetgroup": "Random Forest",
         "orientation": "v",
         "showlegend": false,
         "textposition": "auto",
         "type": "bar",
         "x": [
          "Accuracy",
          "Precision",
          "Recall",
          "F1 Score"
         ],
         "xaxis": "x3",
         "y": [
          0.9562118126272912,
          0.91434103060797,
          0.9562118126272912,
          0.934807800163484
         ],
         "yaxis": "y3"
        },
        {
         "alignmentgroup": "True",
         "hovertemplate": "Model=KNN<br>Scaler=None<br>Metric=%{x}<br>Value=%{y}<extra></extra>",
         "legendgroup": "KNN",
         "marker": {
          "color": "#EF553B",
          "pattern": {
           "shape": ""
          }
         },
         "name": "KNN",
         "offsetgroup": "KNN",
         "orientation": "v",
         "showlegend": true,
         "textposition": "auto",
         "type": "bar",
         "x": [
          "Accuracy",
          "Precision",
          "Recall",
          "F1 Score"
         ],
         "xaxis": "x",
         "y": [
          0.9562118126272912,
          0.91434103060797,
          0.9562118126272912,
          0.934807800163484
         ],
         "yaxis": "y"
        },
        {
         "alignmentgroup": "True",
         "hovertemplate": "Model=KNN<br>Scaler=StandardScaler<br>Metric=%{x}<br>Value=%{y}<extra></extra>",
         "legendgroup": "KNN",
         "marker": {
          "color": "#EF553B",
          "pattern": {
           "shape": ""
          }
         },
         "name": "KNN",
         "offsetgroup": "KNN",
         "orientation": "v",
         "showlegend": false,
         "textposition": "auto",
         "type": "bar",
         "x": [
          "Accuracy",
          "Precision",
          "Recall",
          "F1 Score"
         ],
         "xaxis": "x2",
         "y": [
          0.9541751527494908,
          0.9142555800324204,
          0.9541751527494908,
          0.9337889196787618
         ],
         "yaxis": "y2"
        },
        {
         "alignmentgroup": "True",
         "hovertemplate": "Model=KNN<br>Scaler=MinMaxScaler<br>Metric=%{x}<br>Value=%{y}<extra></extra>",
         "legendgroup": "KNN",
         "marker": {
          "color": "#EF553B",
          "pattern": {
           "shape": ""
          }
         },
         "name": "KNN",
         "offsetgroup": "KNN",
         "orientation": "v",
         "showlegend": false,
         "textposition": "auto",
         "type": "bar",
         "x": [
          "Accuracy",
          "Precision",
          "Recall",
          "F1 Score"
         ],
         "xaxis": "x3",
         "y": [
          0.9541751527494908,
          0.9142555800324204,
          0.9541751527494908,
          0.9337889196787618
         ],
         "yaxis": "y3"
        },
        {
         "alignmentgroup": "True",
         "hovertemplate": "Model=Logistic Regression<br>Scaler=None<br>Metric=%{x}<br>Value=%{y}<extra></extra>",
         "legendgroup": "Logistic Regression",
         "marker": {
          "color": "#00cc96",
          "pattern": {
           "shape": ""
          }
         },
         "name": "Logistic Regression",
         "offsetgroup": "Logistic Regression",
         "orientation": "v",
         "showlegend": true,
         "textposition": "auto",
         "type": "bar",
         "x": [
          "Accuracy",
          "Precision",
          "Recall",
          "F1 Score"
         ],
         "xaxis": "x",
         "y": [
          0.9562118126272912,
          0.91434103060797,
          0.9562118126272912,
          0.934807800163484
         ],
         "yaxis": "y"
        },
        {
         "alignmentgroup": "True",
         "hovertemplate": "Model=Logistic Regression<br>Scaler=StandardScaler<br>Metric=%{x}<br>Value=%{y}<extra></extra>",
         "legendgroup": "Logistic Regression",
         "marker": {
          "color": "#00cc96",
          "pattern": {
           "shape": ""
          }
         },
         "name": "Logistic Regression",
         "offsetgroup": "Logistic Regression",
         "orientation": "v",
         "showlegend": false,
         "textposition": "auto",
         "type": "bar",
         "x": [
          "Accuracy",
          "Precision",
          "Recall",
          "F1 Score"
         ],
         "xaxis": "x2",
         "y": [
          0.9562118126272912,
          0.91434103060797,
          0.9562118126272912,
          0.934807800163484
         ],
         "yaxis": "y2"
        },
        {
         "alignmentgroup": "True",
         "hovertemplate": "Model=Logistic Regression<br>Scaler=MinMaxScaler<br>Metric=%{x}<br>Value=%{y}<extra></extra>",
         "legendgroup": "Logistic Regression",
         "marker": {
          "color": "#00cc96",
          "pattern": {
           "shape": ""
          }
         },
         "name": "Logistic Regression",
         "offsetgroup": "Logistic Regression",
         "orientation": "v",
         "showlegend": false,
         "textposition": "auto",
         "type": "bar",
         "x": [
          "Accuracy",
          "Precision",
          "Recall",
          "F1 Score"
         ],
         "xaxis": "x3",
         "y": [
          0.9562118126272912,
          0.91434103060797,
          0.9562118126272912,
          0.934807800163484
         ],
         "yaxis": "y3"
        },
        {
         "alignmentgroup": "True",
         "hovertemplate": "Model=SVM<br>Scaler=None<br>Metric=%{x}<br>Value=%{y}<extra></extra>",
         "legendgroup": "SVM",
         "marker": {
          "color": "#ab63fa",
          "pattern": {
           "shape": ""
          }
         },
         "name": "SVM",
         "offsetgroup": "SVM",
         "orientation": "v",
         "showlegend": true,
         "textposition": "auto",
         "type": "bar",
         "x": [
          "Accuracy",
          "Precision",
          "Recall",
          "F1 Score"
         ],
         "xaxis": "x",
         "y": [
          0.9562118126272912,
          0.91434103060797,
          0.9562118126272912,
          0.934807800163484
         ],
         "yaxis": "y"
        },
        {
         "alignmentgroup": "True",
         "hovertemplate": "Model=SVM<br>Scaler=StandardScaler<br>Metric=%{x}<br>Value=%{y}<extra></extra>",
         "legendgroup": "SVM",
         "marker": {
          "color": "#ab63fa",
          "pattern": {
           "shape": ""
          }
         },
         "name": "SVM",
         "offsetgroup": "SVM",
         "orientation": "v",
         "showlegend": false,
         "textposition": "auto",
         "type": "bar",
         "x": [
          "Accuracy",
          "Precision",
          "Recall",
          "F1 Score"
         ],
         "xaxis": "x2",
         "y": [
          0.9562118126272912,
          0.91434103060797,
          0.9562118126272912,
          0.934807800163484
         ],
         "yaxis": "y2"
        },
        {
         "alignmentgroup": "True",
         "hovertemplate": "Model=SVM<br>Scaler=MinMaxScaler<br>Metric=%{x}<br>Value=%{y}<extra></extra>",
         "legendgroup": "SVM",
         "marker": {
          "color": "#ab63fa",
          "pattern": {
           "shape": ""
          }
         },
         "name": "SVM",
         "offsetgroup": "SVM",
         "orientation": "v",
         "showlegend": false,
         "textposition": "auto",
         "type": "bar",
         "x": [
          "Accuracy",
          "Precision",
          "Recall",
          "F1 Score"
         ],
         "xaxis": "x3",
         "y": [
          0.9562118126272912,
          0.91434103060797,
          0.9562118126272912,
          0.934807800163484
         ],
         "yaxis": "y3"
        },
        {
         "alignmentgroup": "True",
         "hovertemplate": "Model=Decision Tree<br>Scaler=None<br>Metric=%{x}<br>Value=%{y}<extra></extra>",
         "legendgroup": "Decision Tree",
         "marker": {
          "color": "#FFA15A",
          "pattern": {
           "shape": ""
          }
         },
         "name": "Decision Tree",
         "offsetgroup": "Decision Tree",
         "orientation": "v",
         "showlegend": true,
         "textposition": "auto",
         "type": "bar",
         "x": [
          "Accuracy",
          "Precision",
          "Recall",
          "F1 Score"
         ],
         "xaxis": "x",
         "y": [
          0.940936863543788,
          0.922666568169068,
          0.940936863543788,
          0.9311273314395968
         ],
         "yaxis": "y"
        },
        {
         "alignmentgroup": "True",
         "hovertemplate": "Model=Decision Tree<br>Scaler=StandardScaler<br>Metric=%{x}<br>Value=%{y}<extra></extra>",
         "legendgroup": "Decision Tree",
         "marker": {
          "color": "#FFA15A",
          "pattern": {
           "shape": ""
          }
         },
         "name": "Decision Tree",
         "offsetgroup": "Decision Tree",
         "orientation": "v",
         "showlegend": false,
         "textposition": "auto",
         "type": "bar",
         "x": [
          "Accuracy",
          "Precision",
          "Recall",
          "F1 Score"
         ],
         "xaxis": "x2",
         "y": [
          0.940936863543788,
          0.922666568169068,
          0.940936863543788,
          0.9311273314395968
         ],
         "yaxis": "y2"
        },
        {
         "alignmentgroup": "True",
         "hovertemplate": "Model=Decision Tree<br>Scaler=MinMaxScaler<br>Metric=%{x}<br>Value=%{y}<extra></extra>",
         "legendgroup": "Decision Tree",
         "marker": {
          "color": "#FFA15A",
          "pattern": {
           "shape": ""
          }
         },
         "name": "Decision Tree",
         "offsetgroup": "Decision Tree",
         "orientation": "v",
         "showlegend": false,
         "textposition": "auto",
         "type": "bar",
         "x": [
          "Accuracy",
          "Precision",
          "Recall",
          "F1 Score"
         ],
         "xaxis": "x3",
         "y": [
          0.940936863543788,
          0.922666568169068,
          0.940936863543788,
          0.9311273314395968
         ],
         "yaxis": "y3"
        }
       ],
       "layout": {
        "annotations": [
         {
          "font": {},
          "showarrow": false,
          "text": "Scaler=None",
          "x": 0.15999999999999998,
          "xanchor": "center",
          "xref": "paper",
          "y": 1,
          "yanchor": "bottom",
          "yref": "paper"
         },
         {
          "font": {},
          "showarrow": false,
          "text": "Scaler=StandardScaler",
          "x": 0.49999999999999994,
          "xanchor": "center",
          "xref": "paper",
          "y": 1,
          "yanchor": "bottom",
          "yref": "paper"
         },
         {
          "font": {},
          "showarrow": false,
          "text": "Scaler=MinMaxScaler",
          "x": 0.8399999999999999,
          "xanchor": "center",
          "xref": "paper",
          "y": 1,
          "yanchor": "bottom",
          "yref": "paper"
         }
        ],
        "barmode": "group",
        "legend": {
         "title": {
          "text": "Model"
         },
         "tracegroupgap": 0
        },
        "template": {
         "data": {
          "bar": [
           {
            "error_x": {
             "color": "#2a3f5f"
            },
            "error_y": {
             "color": "#2a3f5f"
            },
            "marker": {
             "line": {
              "color": "#E5ECF6",
              "width": 0.5
             },
             "pattern": {
              "fillmode": "overlay",
              "size": 10,
              "solidity": 0.2
             }
            },
            "type": "bar"
           }
          ],
          "barpolar": [
           {
            "marker": {
             "line": {
              "color": "#E5ECF6",
              "width": 0.5
             },
             "pattern": {
              "fillmode": "overlay",
              "size": 10,
              "solidity": 0.2
             }
            },
            "type": "barpolar"
           }
          ],
          "carpet": [
           {
            "aaxis": {
             "endlinecolor": "#2a3f5f",
             "gridcolor": "white",
             "linecolor": "white",
             "minorgridcolor": "white",
             "startlinecolor": "#2a3f5f"
            },
            "baxis": {
             "endlinecolor": "#2a3f5f",
             "gridcolor": "white",
             "linecolor": "white",
             "minorgridcolor": "white",
             "startlinecolor": "#2a3f5f"
            },
            "type": "carpet"
           }
          ],
          "choropleth": [
           {
            "colorbar": {
             "outlinewidth": 0,
             "ticks": ""
            },
            "type": "choropleth"
           }
          ],
          "contour": [
           {
            "colorbar": {
             "outlinewidth": 0,
             "ticks": ""
            },
            "colorscale": [
             [
              0,
              "#0d0887"
             ],
             [
              0.1111111111111111,
              "#46039f"
             ],
             [
              0.2222222222222222,
              "#7201a8"
             ],
             [
              0.3333333333333333,
              "#9c179e"
             ],
             [
              0.4444444444444444,
              "#bd3786"
             ],
             [
              0.5555555555555556,
              "#d8576b"
             ],
             [
              0.6666666666666666,
              "#ed7953"
             ],
             [
              0.7777777777777778,
              "#fb9f3a"
             ],
             [
              0.8888888888888888,
              "#fdca26"
             ],
             [
              1,
              "#f0f921"
             ]
            ],
            "type": "contour"
           }
          ],
          "contourcarpet": [
           {
            "colorbar": {
             "outlinewidth": 0,
             "ticks": ""
            },
            "type": "contourcarpet"
           }
          ],
          "heatmap": [
           {
            "colorbar": {
             "outlinewidth": 0,
             "ticks": ""
            },
            "colorscale": [
             [
              0,
              "#0d0887"
             ],
             [
              0.1111111111111111,
              "#46039f"
             ],
             [
              0.2222222222222222,
              "#7201a8"
             ],
             [
              0.3333333333333333,
              "#9c179e"
             ],
             [
              0.4444444444444444,
              "#bd3786"
             ],
             [
              0.5555555555555556,
              "#d8576b"
             ],
             [
              0.6666666666666666,
              "#ed7953"
             ],
             [
              0.7777777777777778,
              "#fb9f3a"
             ],
             [
              0.8888888888888888,
              "#fdca26"
             ],
             [
              1,
              "#f0f921"
             ]
            ],
            "type": "heatmap"
           }
          ],
          "heatmapgl": [
           {
            "colorbar": {
             "outlinewidth": 0,
             "ticks": ""
            },
            "colorscale": [
             [
              0,
              "#0d0887"
             ],
             [
              0.1111111111111111,
              "#46039f"
             ],
             [
              0.2222222222222222,
              "#7201a8"
             ],
             [
              0.3333333333333333,
              "#9c179e"
             ],
             [
              0.4444444444444444,
              "#bd3786"
             ],
             [
              0.5555555555555556,
              "#d8576b"
             ],
             [
              0.6666666666666666,
              "#ed7953"
             ],
             [
              0.7777777777777778,
              "#fb9f3a"
             ],
             [
              0.8888888888888888,
              "#fdca26"
             ],
             [
              1,
              "#f0f921"
             ]
            ],
            "type": "heatmapgl"
           }
          ],
          "histogram": [
           {
            "marker": {
             "pattern": {
              "fillmode": "overlay",
              "size": 10,
              "solidity": 0.2
             }
            },
            "type": "histogram"
           }
          ],
          "histogram2d": [
           {
            "colorbar": {
             "outlinewidth": 0,
             "ticks": ""
            },
            "colorscale": [
             [
              0,
              "#0d0887"
             ],
             [
              0.1111111111111111,
              "#46039f"
             ],
             [
              0.2222222222222222,
              "#7201a8"
             ],
             [
              0.3333333333333333,
              "#9c179e"
             ],
             [
              0.4444444444444444,
              "#bd3786"
             ],
             [
              0.5555555555555556,
              "#d8576b"
             ],
             [
              0.6666666666666666,
              "#ed7953"
             ],
             [
              0.7777777777777778,
              "#fb9f3a"
             ],
             [
              0.8888888888888888,
              "#fdca26"
             ],
             [
              1,
              "#f0f921"
             ]
            ],
            "type": "histogram2d"
           }
          ],
          "histogram2dcontour": [
           {
            "colorbar": {
             "outlinewidth": 0,
             "ticks": ""
            },
            "colorscale": [
             [
              0,
              "#0d0887"
             ],
             [
              0.1111111111111111,
              "#46039f"
             ],
             [
              0.2222222222222222,
              "#7201a8"
             ],
             [
              0.3333333333333333,
              "#9c179e"
             ],
             [
              0.4444444444444444,
              "#bd3786"
             ],
             [
              0.5555555555555556,
              "#d8576b"
             ],
             [
              0.6666666666666666,
              "#ed7953"
             ],
             [
              0.7777777777777778,
              "#fb9f3a"
             ],
             [
              0.8888888888888888,
              "#fdca26"
             ],
             [
              1,
              "#f0f921"
             ]
            ],
            "type": "histogram2dcontour"
           }
          ],
          "mesh3d": [
           {
            "colorbar": {
             "outlinewidth": 0,
             "ticks": ""
            },
            "type": "mesh3d"
           }
          ],
          "parcoords": [
           {
            "line": {
             "colorbar": {
              "outlinewidth": 0,
              "ticks": ""
             }
            },
            "type": "parcoords"
           }
          ],
          "pie": [
           {
            "automargin": true,
            "type": "pie"
           }
          ],
          "scatter": [
           {
            "fillpattern": {
             "fillmode": "overlay",
             "size": 10,
             "solidity": 0.2
            },
            "type": "scatter"
           }
          ],
          "scatter3d": [
           {
            "line": {
             "colorbar": {
              "outlinewidth": 0,
              "ticks": ""
             }
            },
            "marker": {
             "colorbar": {
              "outlinewidth": 0,
              "ticks": ""
             }
            },
            "type": "scatter3d"
           }
          ],
          "scattercarpet": [
           {
            "marker": {
             "colorbar": {
              "outlinewidth": 0,
              "ticks": ""
             }
            },
            "type": "scattercarpet"
           }
          ],
          "scattergeo": [
           {
            "marker": {
             "colorbar": {
              "outlinewidth": 0,
              "ticks": ""
             }
            },
            "type": "scattergeo"
           }
          ],
          "scattergl": [
           {
            "marker": {
             "colorbar": {
              "outlinewidth": 0,
              "ticks": ""
             }
            },
            "type": "scattergl"
           }
          ],
          "scattermapbox": [
           {
            "marker": {
             "colorbar": {
              "outlinewidth": 0,
              "ticks": ""
             }
            },
            "type": "scattermapbox"
           }
          ],
          "scatterpolar": [
           {
            "marker": {
             "colorbar": {
              "outlinewidth": 0,
              "ticks": ""
             }
            },
            "type": "scatterpolar"
           }
          ],
          "scatterpolargl": [
           {
            "marker": {
             "colorbar": {
              "outlinewidth": 0,
              "ticks": ""
             }
            },
            "type": "scatterpolargl"
           }
          ],
          "scatterternary": [
           {
            "marker": {
             "colorbar": {
              "outlinewidth": 0,
              "ticks": ""
             }
            },
            "type": "scatterternary"
           }
          ],
          "surface": [
           {
            "colorbar": {
             "outlinewidth": 0,
             "ticks": ""
            },
            "colorscale": [
             [
              0,
              "#0d0887"
             ],
             [
              0.1111111111111111,
              "#46039f"
             ],
             [
              0.2222222222222222,
              "#7201a8"
             ],
             [
              0.3333333333333333,
              "#9c179e"
             ],
             [
              0.4444444444444444,
              "#bd3786"
             ],
             [
              0.5555555555555556,
              "#d8576b"
             ],
             [
              0.6666666666666666,
              "#ed7953"
             ],
             [
              0.7777777777777778,
              "#fb9f3a"
             ],
             [
              0.8888888888888888,
              "#fdca26"
             ],
             [
              1,
              "#f0f921"
             ]
            ],
            "type": "surface"
           }
          ],
          "table": [
           {
            "cells": {
             "fill": {
              "color": "#EBF0F8"
             },
             "line": {
              "color": "white"
             }
            },
            "header": {
             "fill": {
              "color": "#C8D4E3"
             },
             "line": {
              "color": "white"
             }
            },
            "type": "table"
           }
          ]
         },
         "layout": {
          "annotationdefaults": {
           "arrowcolor": "#2a3f5f",
           "arrowhead": 0,
           "arrowwidth": 1
          },
          "autotypenumbers": "strict",
          "coloraxis": {
           "colorbar": {
            "outlinewidth": 0,
            "ticks": ""
           }
          },
          "colorscale": {
           "diverging": [
            [
             0,
             "#8e0152"
            ],
            [
             0.1,
             "#c51b7d"
            ],
            [
             0.2,
             "#de77ae"
            ],
            [
             0.3,
             "#f1b6da"
            ],
            [
             0.4,
             "#fde0ef"
            ],
            [
             0.5,
             "#f7f7f7"
            ],
            [
             0.6,
             "#e6f5d0"
            ],
            [
             0.7,
             "#b8e186"
            ],
            [
             0.8,
             "#7fbc41"
            ],
            [
             0.9,
             "#4d9221"
            ],
            [
             1,
             "#276419"
            ]
           ],
           "sequential": [
            [
             0,
             "#0d0887"
            ],
            [
             0.1111111111111111,
             "#46039f"
            ],
            [
             0.2222222222222222,
             "#7201a8"
            ],
            [
             0.3333333333333333,
             "#9c179e"
            ],
            [
             0.4444444444444444,
             "#bd3786"
            ],
            [
             0.5555555555555556,
             "#d8576b"
            ],
            [
             0.6666666666666666,
             "#ed7953"
            ],
            [
             0.7777777777777778,
             "#fb9f3a"
            ],
            [
             0.8888888888888888,
             "#fdca26"
            ],
            [
             1,
             "#f0f921"
            ]
           ],
           "sequentialminus": [
            [
             0,
             "#0d0887"
            ],
            [
             0.1111111111111111,
             "#46039f"
            ],
            [
             0.2222222222222222,
             "#7201a8"
            ],
            [
             0.3333333333333333,
             "#9c179e"
            ],
            [
             0.4444444444444444,
             "#bd3786"
            ],
            [
             0.5555555555555556,
             "#d8576b"
            ],
            [
             0.6666666666666666,
             "#ed7953"
            ],
            [
             0.7777777777777778,
             "#fb9f3a"
            ],
            [
             0.8888888888888888,
             "#fdca26"
            ],
            [
             1,
             "#f0f921"
            ]
           ]
          },
          "colorway": [
           "#636efa",
           "#EF553B",
           "#00cc96",
           "#ab63fa",
           "#FFA15A",
           "#19d3f3",
           "#FF6692",
           "#B6E880",
           "#FF97FF",
           "#FECB52"
          ],
          "font": {
           "color": "#2a3f5f"
          },
          "geo": {
           "bgcolor": "white",
           "lakecolor": "white",
           "landcolor": "#E5ECF6",
           "showlakes": true,
           "showland": true,
           "subunitcolor": "white"
          },
          "hoverlabel": {
           "align": "left"
          },
          "hovermode": "closest",
          "mapbox": {
           "style": "light"
          },
          "paper_bgcolor": "white",
          "plot_bgcolor": "#E5ECF6",
          "polar": {
           "angularaxis": {
            "gridcolor": "white",
            "linecolor": "white",
            "ticks": ""
           },
           "bgcolor": "#E5ECF6",
           "radialaxis": {
            "gridcolor": "white",
            "linecolor": "white",
            "ticks": ""
           }
          },
          "scene": {
           "xaxis": {
            "backgroundcolor": "#E5ECF6",
            "gridcolor": "white",
            "gridwidth": 2,
            "linecolor": "white",
            "showbackground": true,
            "ticks": "",
            "zerolinecolor": "white"
           },
           "yaxis": {
            "backgroundcolor": "#E5ECF6",
            "gridcolor": "white",
            "gridwidth": 2,
            "linecolor": "white",
            "showbackground": true,
            "ticks": "",
            "zerolinecolor": "white"
           },
           "zaxis": {
            "backgroundcolor": "#E5ECF6",
            "gridcolor": "white",
            "gridwidth": 2,
            "linecolor": "white",
            "showbackground": true,
            "ticks": "",
            "zerolinecolor": "white"
           }
          },
          "shapedefaults": {
           "line": {
            "color": "#2a3f5f"
           }
          },
          "ternary": {
           "aaxis": {
            "gridcolor": "white",
            "linecolor": "white",
            "ticks": ""
           },
           "baxis": {
            "gridcolor": "white",
            "linecolor": "white",
            "ticks": ""
           },
           "bgcolor": "#E5ECF6",
           "caxis": {
            "gridcolor": "white",
            "linecolor": "white",
            "ticks": ""
           }
          },
          "title": {
           "x": 0.05
          },
          "xaxis": {
           "automargin": true,
           "gridcolor": "white",
           "linecolor": "white",
           "ticks": "",
           "title": {
            "standoff": 15
           },
           "zerolinecolor": "white",
           "zerolinewidth": 2
          },
          "yaxis": {
           "automargin": true,
           "gridcolor": "white",
           "linecolor": "white",
           "ticks": "",
           "title": {
            "standoff": 15
           },
           "zerolinecolor": "white",
           "zerolinewidth": 2
          }
         }
        },
        "title": {
         "text": "Model Performance Metrics"
        },
        "xaxis": {
         "anchor": "y",
         "domain": [
          0,
          0.31999999999999995
         ],
         "title": {
          "text": "Metric"
         }
        },
        "xaxis2": {
         "anchor": "y2",
         "domain": [
          0.33999999999999997,
          0.6599999999999999
         ],
         "matches": "x",
         "title": {
          "text": "Metric"
         }
        },
        "xaxis3": {
         "anchor": "y3",
         "domain": [
          0.6799999999999999,
          0.9999999999999999
         ],
         "matches": "x",
         "title": {
          "text": "Metric"
         }
        },
        "yaxis": {
         "anchor": "x",
         "domain": [
          0,
          1
         ],
         "range": [
          0.9,
          1
         ],
         "title": {
          "text": "Value"
         }
        },
        "yaxis2": {
         "anchor": "x2",
         "domain": [
          0,
          1
         ],
         "matches": "y",
         "showticklabels": false
        },
        "yaxis3": {
         "anchor": "x3",
         "domain": [
          0,
          1
         ],
         "matches": "y",
         "showticklabels": false
        }
       }
      }
     },
     "metadata": {},
     "output_type": "display_data"
    }
   ],
   "source": [
    "import pandas as pd\n",
    "import plotly.express as px\n",
    "\n",
    "# Assuming 'combined_results_df' contains the results with columns like 'Model', 'Accuracy', 'Precision', etc.\n",
    "combined_results_df = pd.read_csv(\"individual_model_results.csv\")\n",
    "\n",
    "# Melt the dataframe to long format for easy plotting with Plotly\n",
    "results_melted_df = combined_results_df.melt(id_vars=['Model', 'Scaler'], \n",
    "                                    value_vars=['Accuracy', 'Precision', 'Recall', 'F1 Score'],\n",
    "                                    var_name='Metric', value_name='Value')\n",
    "\n",
    "# Create the Plotly bar chart\n",
    "fig = px.bar(results_melted_df, x='Metric', y='Value', color='Model', barmode='group',\n",
    "             facet_col='Scaler', title='Model Performance Metrics')\n",
    "\n",
    "# Update layout for better visualization\n",
    "fig.update_layout(xaxis_title='Metric',\n",
    "                  yaxis_title='Value',\n",
    "                  legend_title='Model',\n",
    "                  yaxis=dict(range=[0.9, 1]))  # Scaled y-axis\n",
    "\n",
    "# Show the figure\n",
    "fig.show()\n"
   ]
  },
  {
   "cell_type": "markdown",
   "metadata": {},
   "source": [
    "-----------------------------------------------------------------------------------------------------------------------------------------------------\n",
    "-----------------------------------------------------------------------------------------------------------------------------------------------------\n",
    "-----------------------------------------------------------------------------------------------------------------------------------------------------"
   ]
  },
  {
   "cell_type": "code",
   "execution_count": 53,
   "metadata": {},
   "outputs": [
    {
     "ename": "NameError",
     "evalue": "name 'best_model' is not defined",
     "output_type": "error",
     "traceback": [
      "\u001b[0;31m---------------------------------------------------------------------------\u001b[0m",
      "\u001b[0;31mNameError\u001b[0m                                 Traceback (most recent call last)",
      "Cell \u001b[0;32mIn[53], line 18\u001b[0m\n\u001b[1;32m     15\u001b[0m         plt\u001b[38;5;241m.\u001b[39mshow()\n\u001b[1;32m     17\u001b[0m \u001b[38;5;66;03m# Assuming `best_model` is the model with feature importance\u001b[39;00m\n\u001b[0;32m---> 18\u001b[0m plot_feature_importance(\u001b[43mbest_model\u001b[49m, X_train\u001b[38;5;241m.\u001b[39mcolumns)\n",
      "\u001b[0;31mNameError\u001b[0m: name 'best_model' is not defined"
     ]
    }
   ],
   "source": [
    "import numpy as np\n",
    "\n",
    "def plot_feature_importance(model, feature_names):\n",
    "    if hasattr(model, 'feature_importances_'):\n",
    "        importances = model.feature_importances_\n",
    "        indices = np.argsort(importances)[::-1]\n",
    "        plt.figure(figsize=(10, 6))\n",
    "        plt.title(\"Feature Importances\")\n",
    "        plt.bar(range(len(feature_names)), importances[indices], align=\"center\")\n",
    "        plt.xticks(range(len(feature_names)), np.array(feature_names)[indices], rotation=90)\n",
    "        plt.xlim([-1, len(feature_names)])\n",
    "        plt.xlabel('Feature')\n",
    "        plt.ylabel('Importance')\n",
    "        plt.tight_layout()\n",
    "        plt.show()\n",
    "\n",
    "# Assuming `best_model` is the model with feature importance\n",
    "plot_feature_importance(best_model, X_train.columns)\n"
   ]
  },
  {
   "cell_type": "code",
   "execution_count": 54,
   "metadata": {},
   "outputs": [
    {
     "ename": "NameError",
     "evalue": "name 'y_pred' is not defined",
     "output_type": "error",
     "traceback": [
      "\u001b[0;31m---------------------------------------------------------------------------\u001b[0m",
      "\u001b[0;31mNameError\u001b[0m                                 Traceback (most recent call last)",
      "Cell \u001b[0;32mIn[54], line 14\u001b[0m\n\u001b[1;32m     11\u001b[0m     plt\u001b[38;5;241m.\u001b[39mshow()\n\u001b[1;32m     13\u001b[0m \u001b[38;5;66;03m# Assuming `y_test` and `y_pred` are your true and predicted labels, and `class_names` is a list of class names\u001b[39;00m\n\u001b[0;32m---> 14\u001b[0m plot_confusion_matrix(y_test, \u001b[43my_pred\u001b[49m, class_names)\n",
      "\u001b[0;31mNameError\u001b[0m: name 'y_pred' is not defined"
     ]
    }
   ],
   "source": [
    "from sklearn.metrics import confusion_matrix\n",
    "import seaborn as sns\n",
    "\n",
    "def plot_confusion_matrix(y_true, y_pred, classes):\n",
    "    cm = confusion_matrix(y_true, y_pred)\n",
    "    plt.figure(figsize=(8, 6))\n",
    "    sns.heatmap(cm, annot=True, fmt='d', cmap='Blues', xticklabels=classes, yticklabels=classes)\n",
    "    plt.xlabel('Predicted Label')\n",
    "    plt.ylabel('True Label')\n",
    "    plt.title('Confusion Matrix')\n",
    "    plt.show()\n",
    "\n",
    "# Assuming `y_test` and `y_pred` are your true and predicted labels, and `class_names` is a list of class names\n",
    "plot_confusion_matrix(y_test, y_pred, class_names)\n"
   ]
  },
  {
   "cell_type": "code",
   "execution_count": null,
   "metadata": {},
   "outputs": [
    {
     "ename": "NameError",
     "evalue": "name 'y_score' is not defined",
     "output_type": "error",
     "traceback": [
      "\u001b[1;31m---------------------------------------------------------------------------\u001b[0m",
      "\u001b[1;31mNameError\u001b[0m                                 Traceback (most recent call last)",
      "Cell \u001b[1;32mIn[40], line 18\u001b[0m\n\u001b[0;32m     15\u001b[0m     plt\u001b[38;5;241m.\u001b[39mshow()\n\u001b[0;32m     17\u001b[0m \u001b[38;5;66;03m# Assuming `y_test` and `y_score` (model's prediction probabilities) are available\u001b[39;00m\n\u001b[1;32m---> 18\u001b[0m plot_roc_curve(y_test, \u001b[43my_score\u001b[49m)\n",
      "\u001b[1;31mNameError\u001b[0m: name 'y_score' is not defined"
     ]
    }
   ],
   "source": [
    "from sklearn.metrics import roc_curve, auc\n",
    "\n",
    "def plot_roc_curve(y_true, y_score):\n",
    "    fpr, tpr, _ = roc_curve(y_true, y_score)\n",
    "    roc_auc = auc(fpr, tpr)\n",
    "    plt.figure(figsize=(8, 6))\n",
    "    plt.plot(fpr, tpr, color='darkorange', lw=2, label=f'ROC curve (area = {roc_auc:.2f})')\n",
    "    plt.plot([0, 1], [0, 1], color='navy', lw=2, linestyle='--')\n",
    "    plt.xlim([0.0, 1.0])\n",
    "    plt.ylim([0.0, 1.05])\n",
    "    plt.xlabel('False Positive Rate')\n",
    "    plt.ylabel('True Positive Rate')\n",
    "    plt.title('Receiver Operating Characteristic (ROC)')\n",
    "    plt.legend(loc='lower right')\n",
    "    plt.show()\n",
    "\n",
    "# Assuming `y_test` and `y_score` (model's prediction probabilities) are available\n",
    "plot_roc_curve(y_test, y_score)\n"
   ]
  },
  {
   "cell_type": "code",
   "execution_count": null,
   "metadata": {},
   "outputs": [],
   "source": [
    "# Summarize the best model results\n",
    "summary_df = combined_results_df.loc[combined_results_df['Accuracy'].idxmax()]\n",
    "print(\"Summary of Best Model:\")\n",
    "print(summary_df)\n"
   ]
  }
 ],
 "metadata": {
  "kernelspec": {
   "display_name": "Python 3",
   "language": "python",
   "name": "python3"
  },
  "language_info": {
   "codemirror_mode": {
    "name": "ipython",
    "version": 3
   },
   "file_extension": ".py",
   "mimetype": "text/x-python",
   "name": "python",
   "nbconvert_exporter": "python",
   "pygments_lexer": "ipython3",
   "version": "3.9.6"
  }
 },
 "nbformat": 4,
 "nbformat_minor": 2
}
